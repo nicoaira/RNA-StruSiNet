{
 "cells": [
  {
   "cell_type": "code",
   "execution_count": 1,
   "id": "6b539939",
   "metadata": {
    "_cell_guid": "b1076dfc-b9ad-4769-8c92-a6c4dae69d19",
    "_uuid": "8f2839f25d086af736a60e9eeb907d3b93b6e0e5",
    "execution": {
     "iopub.execute_input": "2024-01-23T10:54:03.915978Z",
     "iopub.status.busy": "2024-01-23T10:54:03.914908Z",
     "iopub.status.idle": "2024-01-23T10:54:31.565026Z",
     "shell.execute_reply": "2024-01-23T10:54:31.563945Z"
    },
    "papermill": {
     "duration": 27.669915,
     "end_time": "2024-01-23T10:54:31.567720",
     "exception": false,
     "start_time": "2024-01-23T10:54:03.897805",
     "status": "completed"
    },
    "tags": []
   },
   "outputs": [
    {
     "name": "stdout",
     "output_type": "stream",
     "text": [
      "Collecting gdown==v4.6.0\r\n",
      "  Downloading gdown-4.6.0-py3-none-any.whl (14 kB)\r\n",
      "Requirement already satisfied: filelock in /opt/conda/lib/python3.10/site-packages (from gdown==v4.6.0) (3.12.2)\r\n",
      "Requirement already satisfied: requests[socks] in /opt/conda/lib/python3.10/site-packages (from gdown==v4.6.0) (2.31.0)\r\n",
      "Requirement already satisfied: six in /opt/conda/lib/python3.10/site-packages (from gdown==v4.6.0) (1.16.0)\r\n",
      "Requirement already satisfied: tqdm in /opt/conda/lib/python3.10/site-packages (from gdown==v4.6.0) (4.66.1)\r\n",
      "Requirement already satisfied: beautifulsoup4 in /opt/conda/lib/python3.10/site-packages (from gdown==v4.6.0) (4.12.2)\r\n",
      "Requirement already satisfied: soupsieve>1.2 in /opt/conda/lib/python3.10/site-packages (from beautifulsoup4->gdown==v4.6.0) (2.3.2.post1)\r\n",
      "Requirement already satisfied: charset-normalizer<4,>=2 in /opt/conda/lib/python3.10/site-packages (from requests[socks]->gdown==v4.6.0) (3.2.0)\r\n",
      "Requirement already satisfied: idna<4,>=2.5 in /opt/conda/lib/python3.10/site-packages (from requests[socks]->gdown==v4.6.0) (3.4)\r\n",
      "Requirement already satisfied: urllib3<3,>=1.21.1 in /opt/conda/lib/python3.10/site-packages (from requests[socks]->gdown==v4.6.0) (1.26.15)\r\n",
      "Requirement already satisfied: certifi>=2017.4.17 in /opt/conda/lib/python3.10/site-packages (from requests[socks]->gdown==v4.6.0) (2023.11.17)\r\n",
      "Requirement already satisfied: PySocks!=1.5.7,>=1.5.6 in /opt/conda/lib/python3.10/site-packages (from requests[socks]->gdown==v4.6.0) (1.7.1)\r\n",
      "Installing collected packages: gdown\r\n",
      "Successfully installed gdown-4.6.0\r\n"
     ]
    },
    {
     "name": "stderr",
     "output_type": "stream",
     "text": [
      "/opt/conda/lib/python3.10/site-packages/scipy/__init__.py:146: UserWarning: A NumPy version >=1.16.5 and <1.23.0 is required for this version of SciPy (detected version 1.24.3\n",
      "  warnings.warn(f\"A NumPy version >={np_minversion} and <{np_maxversion}\"\n"
     ]
    }
   ],
   "source": [
    "!pip install gdown==v4.6.0\n",
    "\n",
    "import matplotlib.pyplot as plt\n",
    "import numpy as np\n",
    "import os\n",
    "import random\n",
    "import tensorflow as tf\n",
    "from pathlib import Path\n",
    "from tensorflow.keras.callbacks import EarlyStopping\n",
    "from tensorflow.keras import applications\n",
    "from tensorflow.keras import layers\n",
    "from tensorflow.keras import losses\n",
    "from tensorflow.keras import optimizers\n",
    "from tensorflow.keras import metrics\n",
    "from tensorflow.keras import Model\n",
    "from tensorflow.keras.applications import resnet\n",
    "import pandas as pd\n",
    "from sklearn.model_selection import train_test_split\n",
    "from tqdm import tqdm\n",
    "from scipy import stats\n",
    "from itertools import combinations\n",
    "from sklearn.metrics import roc_curve, auc, f1_score\n",
    "from datetime import datetime\n",
    "import pytz\n",
    "from scipy.stats import ttest_ind\n",
    "import seaborn as sns\n",
    "import math\n",
    "import gdown"
   ]
  },
  {
   "cell_type": "markdown",
   "id": "7bff369a",
   "metadata": {
    "papermill": {
     "duration": 0.014032,
     "end_time": "2024-01-23T10:54:31.596808",
     "exception": false,
     "start_time": "2024-01-23T10:54:31.582776",
     "status": "completed"
    },
    "tags": []
   },
   "source": [
    "# Neural Network build and train"
   ]
  },
  {
   "cell_type": "code",
   "execution_count": 2,
   "id": "9277d7ef",
   "metadata": {
    "execution": {
     "iopub.execute_input": "2024-01-23T10:54:31.626982Z",
     "iopub.status.busy": "2024-01-23T10:54:31.626372Z",
     "iopub.status.idle": "2024-01-23T10:54:33.969821Z",
     "shell.execute_reply": "2024-01-23T10:54:33.968881Z"
    },
    "papermill": {
     "duration": 2.360804,
     "end_time": "2024-01-23T10:54:33.971963",
     "exception": false,
     "start_time": "2024-01-23T10:54:31.611159",
     "status": "completed"
    },
    "tags": []
   },
   "outputs": [
    {
     "name": "stderr",
     "output_type": "stream",
     "text": [
      "Downloading...\n",
      "From: https://drive.google.com/uc?id=1FcWMzbENNZZt424kW4x4yLzDS4D5uqBv\n",
      "To: /kaggle/working/dummy_tRNAs_triplets.pkl\n",
      "100%|██████████| 56.1M/56.1M [00:00<00:00, 129MB/s]\n"
     ]
    },
    {
     "data": {
      "text/plain": [
       "'dummy_tRNAs_triplets.pkl'"
      ]
     },
     "execution_count": 2,
     "metadata": {},
     "output_type": "execute_result"
    }
   ],
   "source": [
    "url_id  = '1FcWMzbENNZZt424kW4x4yLzDS4D5uqBv'\n",
    "url = 'https://drive.google.com/uc?id=' + url_id\n",
    "input_csv_file = 'dummy_tRNAs_triplets.pkl'\n",
    "\n",
    "gdown.download(url, input_csv_file, quiet=False)"
   ]
  },
  {
   "cell_type": "code",
   "execution_count": 3,
   "id": "57b9c4bb",
   "metadata": {
    "execution": {
     "iopub.execute_input": "2024-01-23T10:54:34.002995Z",
     "iopub.status.busy": "2024-01-23T10:54:34.002649Z",
     "iopub.status.idle": "2024-01-23T10:54:34.017802Z",
     "shell.execute_reply": "2024-01-23T10:54:34.016897Z"
    },
    "papermill": {
     "duration": 0.033056,
     "end_time": "2024-01-23T10:54:34.019833",
     "exception": false,
     "start_time": "2024-01-23T10:54:33.986777",
     "status": "completed"
    },
    "tags": []
   },
   "outputs": [],
   "source": [
    "def decompress_matrix(indexes_array):\n",
    "\n",
    "    L = len(indexes_array)\n",
    "\n",
    "    decompressed_matrix = np.zeros((L, L))\n",
    "\n",
    "    for row, pos in enumerate(indexes_array):\n",
    "        if pos != -1:\n",
    "            decompressed_matrix[row, pos] = 1\n",
    "        else:\n",
    "            pass\n",
    "\n",
    "    return np.array(decompressed_matrix, dtype=np.int8)\n",
    "\n",
    "def center_pad_matrix(compressed_structure, max_len, padding_value=-1):\n",
    "    ''' Takes the comrpessed structure (as an array of contacts),\n",
    "    and padds the structure with -1s (single stranded bases),\n",
    "    leaving the structure in the middle. As a consequence of this, unpaired\n",
    "    5' and 3' will provide no information'''\n",
    "    \n",
    "    structure_len = len(compressed_structure)\n",
    "    temp_structure = compressed_structure.copy()\n",
    "    if structure_len < max_len:\n",
    "        to_pad = max_len-structure_len\n",
    "        \n",
    "        if to_pad % 2 == 0:\n",
    "            left_pad = int(to_pad/2)\n",
    "            right_pad = int(left_pad)\n",
    "        else:\n",
    "            left_pad = int(to_pad // 2)\n",
    "            right_pad = int(to_pad // 2 + 1)\n",
    "        \n",
    "        # we have to shift all the indexes left_pad positions to the right\n",
    "        for i, index in enumerate(compressed_structure):\n",
    "            if index != -1:\n",
    "                temp_structure[i] += left_pad\n",
    "            else:\n",
    "                pass\n",
    "\n",
    "        temp_structure = [padding_value] * left_pad + temp_structure + [padding_value] * right_pad\n",
    "        \n",
    "    return temp_structure\n",
    "\n",
    "\n",
    "def preprocess_triplets(dot_bracket_A, dot_bracket_P, dot_bracket_N):\n",
    "    \"\"\"\n",
    "    Given the dot_bracket_structures of corresponding to the three images,\n",
    "    load and\n",
    "    preprocess them.\n",
    "    \"\"\"\n",
    "\n",
    "    return (\n",
    "        dot_bracket_A,\n",
    "        dot_bracket_P,\n",
    "        dot_bracket_N,\n",
    "    )\n",
    "\n",
    "\n",
    "'''layers.Conv2D(32, (3, 3), activation='relu'),\n",
    "layers.MaxPooling2D((2, 2)),\n",
    "layers.Conv2D(64, (3, 3), activation='relu', padding='same'),\n",
    "layers.MaxPooling2D((2, 2)),'''\n",
    "\n",
    "def create_cnn_model(target_shape, embedding_size=256):\n",
    "    \n",
    "    inputs = layers.Input(shape=target_shape)\n",
    "    conv2d_1 = layers.Conv2D(32, (7, 7), activation='relu')(inputs)\n",
    "    maxpooling_1 = layers.MaxPooling2D((2, 2))(conv2d_1)\n",
    "    conv2d_2 = layers.Conv2D(64, (3, 3), activation='relu', padding='same')(maxpooling_1)\n",
    "    maxpooling_2 = layers.MaxPooling2D((2, 2))(conv2d_2)\n",
    "    flatten = layers.Flatten()(maxpooling_2)\n",
    "    dense_1 = layers.Dense(embedding_size, activation='relu')(flatten)\n",
    "    emb_vector = layers.Dense(embedding_size, activation='relu')(dense_1)\n",
    "\n",
    "    model = Model(inputs=inputs, outputs=emb_vector)\n",
    "\n",
    "    return model\n",
    "\n",
    "def square_dist(emb1, emb2):\n",
    "    \n",
    "    distance = tf.reduce_sum(tf.square(emb1 - emb2), -1).numpy()[0]\n",
    "    return distance"
   ]
  },
  {
   "cell_type": "code",
   "execution_count": 4,
   "id": "e7523c0a",
   "metadata": {
    "execution": {
     "iopub.execute_input": "2024-01-23T10:54:34.051314Z",
     "iopub.status.busy": "2024-01-23T10:54:34.050956Z",
     "iopub.status.idle": "2024-01-23T10:54:34.063550Z",
     "shell.execute_reply": "2024-01-23T10:54:34.062468Z"
    },
    "papermill": {
     "duration": 0.030987,
     "end_time": "2024-01-23T10:54:34.065609",
     "exception": false,
     "start_time": "2024-01-23T10:54:34.034622",
     "status": "completed"
    },
    "tags": []
   },
   "outputs": [],
   "source": [
    "class DistanceLayer(layers.Layer):\n",
    "    \"\"\"\n",
    "    This layer is responsible for computing the distance between the anchor\n",
    "    embedding and the positive embedding, and the anchor embedding and the\n",
    "    negative embedding.\n",
    "    \"\"\"\n",
    "\n",
    "    def __init__(self, **kwargs):\n",
    "        super().__init__(**kwargs)\n",
    "\n",
    "    def call(self, anchor, positive, negative):\n",
    "        ap_distance = tf.reduce_sum(tf.square(anchor - positive), -1)\n",
    "        an_distance = tf.reduce_sum(tf.square(anchor - negative), -1)\n",
    "        return (ap_distance, an_distance)\n",
    "\n",
    "\n",
    "class SiameseModel(Model):\n",
    "    \"\"\"The Siamese Network model with a custom training and testing loops.\n",
    "\n",
    "    Computes the triplet loss using the three embeddings produced by the\n",
    "    Siamese Network.\n",
    "\n",
    "    The triplet loss is defined as:\n",
    "       L(A, P, N) = max(‖f(A) - f(P)‖² - ‖f(A) - f(N)‖² + margin, 0)\n",
    "    \"\"\"\n",
    "\n",
    "    def __init__(self, siamese_network, margin=0.3):\n",
    "        super().__init__()\n",
    "        self.siamese_network = siamese_network\n",
    "        self.margin = margin\n",
    "        self.loss_tracker = metrics.Mean(name=\"loss\")\n",
    "\n",
    "    def call(self, inputs):\n",
    "        return self.siamese_network(inputs)\n",
    "\n",
    "    def train_step(self, data):\n",
    "        # GradientTape is a context manager that records every operation that\n",
    "        # you do inside. We are using it here to compute the loss so we can get\n",
    "        # the gradients and apply them using the optimizer specified in\n",
    "        # `compile()`.\n",
    "        with tf.GradientTape() as tape:\n",
    "            loss = self._compute_loss(data)\n",
    "\n",
    "        # Storing the gradients of the loss function with respect to the\n",
    "        # weights/parameters.\n",
    "        gradients = tape.gradient(loss, self.siamese_network.trainable_weights)\n",
    "\n",
    "        # Applying the gradients on the model using the specified optimizer\n",
    "        self.optimizer.apply_gradients(\n",
    "            zip(gradients, self.siamese_network.trainable_weights)\n",
    "        )\n",
    "\n",
    "        # Let's update and return the training loss metric.\n",
    "        self.loss_tracker.update_state(loss)\n",
    "        return {\"loss\": self.loss_tracker.result()}\n",
    "\n",
    "    def test_step(self, data):\n",
    "        loss = self._compute_loss(data)\n",
    "\n",
    "        # Let's update and return the loss metric.\n",
    "        self.loss_tracker.update_state(loss)\n",
    "        return {\"loss\": self.loss_tracker.result()}\n",
    "\n",
    "    def _compute_loss(self, data):\n",
    "        # The output of the network is a tuple containing the distances\n",
    "        # between the anchor and the positive example, and the anchor and\n",
    "        # the negative example.\n",
    "        ap_distance, an_distance = self.siamese_network(data)\n",
    "\n",
    "        # Computing the Triplet Loss by subtracting both distances and\n",
    "        # making sure we don't get a negative value.\n",
    "        loss = ap_distance - an_distance\n",
    "        loss = tf.maximum(loss + self.margin, 0.0)\n",
    "        loss *= 100\n",
    "        return loss\n",
    "\n",
    "    @property\n",
    "    def metrics(self):\n",
    "        # We need to list our metrics here so the `reset_states()` can be\n",
    "        # called automatically.\n",
    "        return [self.loss_tracker]"
   ]
  },
  {
   "cell_type": "code",
   "execution_count": 5,
   "id": "4b226577",
   "metadata": {
    "execution": {
     "iopub.execute_input": "2024-01-23T10:54:34.096241Z",
     "iopub.status.busy": "2024-01-23T10:54:34.095944Z",
     "iopub.status.idle": "2024-01-23T10:54:34.966894Z",
     "shell.execute_reply": "2024-01-23T10:54:34.966083Z"
    },
    "papermill": {
     "duration": 0.888804,
     "end_time": "2024-01-23T10:54:34.969198",
     "exception": false,
     "start_time": "2024-01-23T10:54:34.080394",
     "status": "completed"
    },
    "tags": []
   },
   "outputs": [],
   "source": [
    "df = pd.read_pickle(input_csv_file)\n",
    "\n",
    "max_len = max(max(df['structure_A'].apply(len)),\n",
    "              max(df['structure_P'].apply(len)),\n",
    "              max(df['structure_N'].apply(len)))"
   ]
  },
  {
   "cell_type": "code",
   "execution_count": 6,
   "id": "df875606",
   "metadata": {
    "execution": {
     "iopub.execute_input": "2024-01-23T10:54:35.001367Z",
     "iopub.status.busy": "2024-01-23T10:54:35.001041Z",
     "iopub.status.idle": "2024-01-23T10:54:54.499372Z",
     "shell.execute_reply": "2024-01-23T10:54:54.498134Z"
    },
    "papermill": {
     "duration": 19.517049,
     "end_time": "2024-01-23T10:54:54.501462",
     "exception": false,
     "start_time": "2024-01-23T10:54:34.984413",
     "status": "completed"
    },
    "tags": []
   },
   "outputs": [
    {
     "name": "stderr",
     "output_type": "stream",
     "text": [
      "Padding Anchor structures: 100%|██████████| 36000/36000 [00:01<00:00, 19888.93it/s]\n",
      "Padding Positive structures: 100%|██████████| 36000/36000 [00:01<00:00, 22214.04it/s]\n",
      "Padding Negative structures: 100%|██████████| 36000/36000 [00:01<00:00, 23198.74it/s]\n",
      "Decompressing Anchor structures: 100%|██████████| 36000/36000 [00:04<00:00, 7524.11it/s]\n",
      "Decompressing Positive structures: 100%|██████████| 36000/36000 [00:04<00:00, 7516.39it/s]\n",
      "Decompressing Negative structures: 100%|██████████| 36000/36000 [00:04<00:00, 7608.11it/s]\n"
     ]
    }
   ],
   "source": [
    "# Pading\n",
    "\n",
    "tqdm.pandas(desc='Padding Anchor structures')\n",
    "df['structure_A'] = df.progress_apply((lambda x: center_pad_matrix(x['structure_A'], max_len)), axis =1)\n",
    "tqdm.pandas(desc='Padding Positive structures')\n",
    "df['structure_P'] = df.progress_apply((lambda x: center_pad_matrix(x['structure_P'], max_len)), axis =1)\n",
    "tqdm.pandas(desc='Padding Negative structures')\n",
    "df['structure_N'] = df.progress_apply((lambda x: center_pad_matrix(x['structure_N'], max_len)), axis =1)\n",
    "\n",
    "# Decompression\n",
    "tqdm.pandas(desc='Decompressing Anchor structures')\n",
    "df[\"structure_A\"] = df['structure_A'].progress_apply(decompress_matrix)\n",
    "tqdm.pandas(desc='Decompressing Positive structures')\n",
    "df[\"structure_P\"] = df['structure_P'].progress_apply(decompress_matrix)\n",
    "tqdm.pandas(desc='Decompressing Negative structures')\n",
    "df[\"structure_N\"] = df['structure_N'].progress_apply(decompress_matrix)"
   ]
  },
  {
   "cell_type": "code",
   "execution_count": 7,
   "id": "728eb235",
   "metadata": {
    "execution": {
     "iopub.execute_input": "2024-01-23T10:54:54.563622Z",
     "iopub.status.busy": "2024-01-23T10:54:54.563319Z",
     "iopub.status.idle": "2024-01-23T10:55:12.461858Z",
     "shell.execute_reply": "2024-01-23T10:55:12.460988Z"
    },
    "papermill": {
     "duration": 17.931874,
     "end_time": "2024-01-23T10:55:12.464388",
     "exception": false,
     "start_time": "2024-01-23T10:54:54.532514",
     "status": "completed"
    },
    "tags": []
   },
   "outputs": [],
   "source": [
    "anchor_structures = np.array([val for val in df['structure_A']])\n",
    "anchor_dataset = tf.data.Dataset.from_tensor_slices(anchor_structures)\n",
    "\n",
    "positive_structures = np.array([val for val in df['structure_P']])\n",
    "positive_dataset = tf.data.Dataset.from_tensor_slices(positive_structures)\n",
    "\n",
    "negative_structures = np.array([val for val in df['structure_N']])\n",
    "negative_dataset = tf.data.Dataset.from_tensor_slices(negative_structures)\n",
    "\n",
    "# Build the dataset\n",
    "dataset = tf.data.Dataset.zip((anchor_dataset, positive_dataset, negative_dataset))\n",
    "dataset = dataset.shuffle(buffer_size=1024)\n",
    "dataset = dataset.map(preprocess_triplets)\n",
    "\n",
    "del(anchor_dataset)\n",
    "del(positive_dataset)\n",
    "del(negative_dataset)\n",
    "\n",
    "# Split our dataset in train and validation.\n",
    "train_dataset = dataset.take(round(df.shape[0] * 0.9))\n",
    "val_dataset = dataset.skip(round(df.shape[0] * 0.9))\n",
    "\n",
    "batch_size = 32\n",
    "\n",
    "train_dataset = train_dataset.batch(batch_size, drop_remainder=False)\n",
    "train_dataset = train_dataset.prefetch(8)\n",
    "\n",
    "val_dataset = val_dataset.batch(batch_size, drop_remainder=False)\n",
    "val_dataset = val_dataset.prefetch(8)"
   ]
  },
  {
   "cell_type": "code",
   "execution_count": 8,
   "id": "2a42bfdf",
   "metadata": {
    "execution": {
     "iopub.execute_input": "2024-01-23T10:55:12.529852Z",
     "iopub.status.busy": "2024-01-23T10:55:12.529458Z",
     "iopub.status.idle": "2024-01-23T10:55:12.537011Z",
     "shell.execute_reply": "2024-01-23T10:55:12.535983Z"
    },
    "papermill": {
     "duration": 0.043071,
     "end_time": "2024-01-23T10:55:12.539168",
     "exception": false,
     "start_time": "2024-01-23T10:55:12.496097",
     "status": "completed"
    },
    "tags": []
   },
   "outputs": [],
   "source": [
    "def visualize(anchor, positive, negative):\n",
    "    \"\"\"Visualize a few triplets from the supplied batches.\"\"\"\n",
    "\n",
    "    def show(ax, image):\n",
    "        ax.imshow(image)\n",
    "        ax.get_xaxis().set_visible(False)\n",
    "        ax.get_yaxis().set_visible(False)\n",
    "\n",
    "    fig = plt.figure(figsize=(9, 9))\n",
    "\n",
    "    axs = fig.subplots(3, 3)\n",
    "    for i in range(3):\n",
    "        show(axs[i, 0], anchor[i])\n",
    "        show(axs[i, 1], positive[i])\n",
    "        show(axs[i, 2], negative[i])\n",
    "\n",
    "\n",
    "# visualize(*list(train_dataset.take(1).as_numpy_iterator())[0])"
   ]
  },
  {
   "cell_type": "code",
   "execution_count": 9,
   "id": "f370cbd2",
   "metadata": {
    "execution": {
     "iopub.execute_input": "2024-01-23T10:55:12.603099Z",
     "iopub.status.busy": "2024-01-23T10:55:12.602761Z",
     "iopub.status.idle": "2024-01-23T10:55:12.607188Z",
     "shell.execute_reply": "2024-01-23T10:55:12.606159Z"
    },
    "papermill": {
     "duration": 0.038153,
     "end_time": "2024-01-23T10:55:12.609149",
     "exception": false,
     "start_time": "2024-01-23T10:55:12.570996",
     "status": "completed"
    },
    "tags": []
   },
   "outputs": [],
   "source": [
    "# Example usage:\n",
    "target_shape = (max_len, max_len) + (1,)  # Change this to your desired input shape"
   ]
  },
  {
   "cell_type": "code",
   "execution_count": 10,
   "id": "b8cc0c06",
   "metadata": {
    "execution": {
     "iopub.execute_input": "2024-01-23T10:55:12.717390Z",
     "iopub.status.busy": "2024-01-23T10:55:12.717027Z",
     "iopub.status.idle": "2024-01-23T10:55:13.036213Z",
     "shell.execute_reply": "2024-01-23T10:55:13.035112Z"
    },
    "papermill": {
     "duration": 0.354048,
     "end_time": "2024-01-23T10:55:13.038655",
     "exception": false,
     "start_time": "2024-01-23T10:55:12.684607",
     "status": "completed"
    },
    "tags": []
   },
   "outputs": [],
   "source": [
    "# Create a MirroredStrategy.\n",
    "# strategy = tf.distribute.MirroredStrategy()\n",
    "\n",
    "# print('Number of devices: {}'.format(strategy.num_replicas_in_sync))\n",
    "\n",
    "# # Open a strategy scope.\n",
    "# with strategy.scope():\n",
    "embedding = create_cnn_model(target_shape)\n",
    "\n",
    "anchor_input = layers.Input(name=\"anchor\", shape=target_shape)\n",
    "positive_input = layers.Input(name=\"positive\", shape=target_shape )\n",
    "negative_input = layers.Input(name=\"negative\", shape=target_shape )\n",
    "\n",
    "distances = DistanceLayer()(\n",
    "    embedding(anchor_input),\n",
    "    embedding(positive_input),\n",
    "    embedding(negative_input),\n",
    ")\n",
    "\n",
    "siamese_network = Model(\n",
    "    inputs=[anchor_input, positive_input, negative_input], outputs=distances\n",
    ")\n",
    "\n",
    "\n",
    "siamese_model = SiameseModel(siamese_network, margin=2)\n",
    "siamese_model.compile(optimizer=optimizers.Adam(learning_rate=0.0001, beta_1=0.90), weighted_metrics=[])"
   ]
  },
  {
   "cell_type": "code",
   "execution_count": 11,
   "id": "fb987e72",
   "metadata": {
    "execution": {
     "iopub.execute_input": "2024-01-23T10:55:13.102585Z",
     "iopub.status.busy": "2024-01-23T10:55:13.102268Z",
     "iopub.status.idle": "2024-01-23T10:55:13.131101Z",
     "shell.execute_reply": "2024-01-23T10:55:13.130107Z"
    },
    "papermill": {
     "duration": 0.06918,
     "end_time": "2024-01-23T10:55:13.139465",
     "exception": false,
     "start_time": "2024-01-23T10:55:13.070285",
     "status": "completed"
    },
    "tags": []
   },
   "outputs": [
    {
     "name": "stdout",
     "output_type": "stream",
     "text": [
      "Model: \"model\"\n",
      "_________________________________________________________________\n",
      " Layer (type)                Output Shape              Param #   \n",
      "=================================================================\n",
      " input_1 (InputLayer)        [(None, 248, 248, 1)]     0         \n",
      "                                                                 \n",
      " conv2d (Conv2D)             (None, 242, 242, 32)      1600      \n",
      "                                                                 \n",
      " max_pooling2d (MaxPooling2  (None, 121, 121, 32)      0         \n",
      " D)                                                              \n",
      "                                                                 \n",
      " conv2d_1 (Conv2D)           (None, 121, 121, 64)      18496     \n",
      "                                                                 \n",
      " max_pooling2d_1 (MaxPoolin  (None, 60, 60, 64)        0         \n",
      " g2D)                                                            \n",
      "                                                                 \n",
      " flatten (Flatten)           (None, 230400)            0         \n",
      "                                                                 \n",
      " dense (Dense)               (None, 256)               58982656  \n",
      "                                                                 \n",
      " dense_1 (Dense)             (None, 256)               65792     \n",
      "                                                                 \n",
      "=================================================================\n",
      "Total params: 59068544 (225.33 MB)\n",
      "Trainable params: 59068544 (225.33 MB)\n",
      "Non-trainable params: 0 (0.00 Byte)\n",
      "_________________________________________________________________\n"
     ]
    }
   ],
   "source": [
    "embedding.summary()"
   ]
  },
  {
   "cell_type": "code",
   "execution_count": 12,
   "id": "2e7fda43",
   "metadata": {
    "execution": {
     "iopub.execute_input": "2024-01-23T10:55:13.207055Z",
     "iopub.status.busy": "2024-01-23T10:55:13.206676Z",
     "iopub.status.idle": "2024-01-23T10:55:13.211540Z",
     "shell.execute_reply": "2024-01-23T10:55:13.210575Z"
    },
    "papermill": {
     "duration": 0.041157,
     "end_time": "2024-01-23T10:55:13.213630",
     "exception": false,
     "start_time": "2024-01-23T10:55:13.172473",
     "status": "completed"
    },
    "tags": []
   },
   "outputs": [],
   "source": [
    "callback = EarlyStopping(monitor='val_loss',\n",
    "                         patience=10,\n",
    "                         restore_best_weights=True,\n",
    "                         verbose = 1)"
   ]
  },
  {
   "cell_type": "code",
   "execution_count": 13,
   "id": "eb1196e9",
   "metadata": {
    "execution": {
     "iopub.execute_input": "2024-01-23T10:55:13.279678Z",
     "iopub.status.busy": "2024-01-23T10:55:13.279177Z",
     "iopub.status.idle": "2024-01-23T11:19:24.515462Z",
     "shell.execute_reply": "2024-01-23T11:19:24.514408Z"
    },
    "papermill": {
     "duration": 1451.27106,
     "end_time": "2024-01-23T11:19:24.517735",
     "exception": false,
     "start_time": "2024-01-23T10:55:13.246675",
     "status": "completed"
    },
    "tags": []
   },
   "outputs": [
    {
     "name": "stdout",
     "output_type": "stream",
     "text": [
      "Epoch 1/50\n",
      "1013/1013 [==============================] - 83s 77ms/step - loss: 5.8588 - val_loss: 1.8673\n",
      "Epoch 2/50\n",
      "1013/1013 [==============================] - 72s 71ms/step - loss: 1.4301 - val_loss: 2.1343\n",
      "Epoch 3/50\n",
      "1013/1013 [==============================] - 72s 71ms/step - loss: 0.8166 - val_loss: 4.7997\n",
      "Epoch 4/50\n",
      "1013/1013 [==============================] - 72s 71ms/step - loss: 0.9991 - val_loss: 2.1565\n",
      "Epoch 5/50\n",
      "1013/1013 [==============================] - 72s 71ms/step - loss: 0.4621 - val_loss: 2.8678\n",
      "Epoch 6/50\n",
      "1013/1013 [==============================] - 72s 71ms/step - loss: 0.5173 - val_loss: 1.4968\n",
      "Epoch 7/50\n",
      "1013/1013 [==============================] - 72s 71ms/step - loss: 0.5105 - val_loss: 2.3207\n",
      "Epoch 8/50\n",
      "1013/1013 [==============================] - 72s 71ms/step - loss: 0.5872 - val_loss: 1.3463\n",
      "Epoch 9/50\n",
      "1013/1013 [==============================] - 72s 71ms/step - loss: 0.3890 - val_loss: 2.7217\n",
      "Epoch 10/50\n",
      "1013/1013 [==============================] - 72s 71ms/step - loss: 0.4991 - val_loss: 0.7909\n",
      "Epoch 11/50\n",
      "1013/1013 [==============================] - 72s 71ms/step - loss: 0.4361 - val_loss: 1.6255\n",
      "Epoch 12/50\n",
      "1013/1013 [==============================] - 72s 71ms/step - loss: 0.4037 - val_loss: 2.2834\n",
      "Epoch 13/50\n",
      "1013/1013 [==============================] - 72s 71ms/step - loss: 0.3916 - val_loss: 1.4101\n",
      "Epoch 14/50\n",
      "1013/1013 [==============================] - 72s 71ms/step - loss: 0.1145 - val_loss: 1.1137\n",
      "Epoch 15/50\n",
      "1013/1013 [==============================] - 72s 71ms/step - loss: 0.0821 - val_loss: 1.3887\n",
      "Epoch 16/50\n",
      "1013/1013 [==============================] - 72s 71ms/step - loss: 0.9688 - val_loss: 4.5891\n",
      "Epoch 17/50\n",
      "1013/1013 [==============================] - 72s 71ms/step - loss: 0.0781 - val_loss: 5.7136\n",
      "Epoch 18/50\n",
      "1013/1013 [==============================] - 72s 71ms/step - loss: 0.0935 - val_loss: 5.9094\n",
      "Epoch 19/50\n",
      "1013/1013 [==============================] - 72s 71ms/step - loss: 0.5166 - val_loss: 5.4949\n",
      "Epoch 20/50\n",
      "1012/1013 [============================>.] - ETA: 0s - loss: 0.5819Restoring model weights from the end of the best epoch: 10.\n",
      "1013/1013 [==============================] - 72s 71ms/step - loss: 0.5816 - val_loss: 4.9788\n",
      "Epoch 20: early stopping\n"
     ]
    }
   ],
   "source": [
    "history = siamese_model.fit(train_dataset, epochs=50,\n",
    "                            validation_data=val_dataset,\n",
    "                            callbacks=[callback])"
   ]
  },
  {
   "cell_type": "markdown",
   "id": "bf210257",
   "metadata": {
    "papermill": {
     "duration": 1.825088,
     "end_time": "2024-01-23T11:19:28.146454",
     "exception": false,
     "start_time": "2024-01-23T11:19:26.321366",
     "status": "completed"
    },
    "tags": []
   },
   "source": [
    "# bpRNA dataset testing"
   ]
  },
  {
   "cell_type": "code",
   "execution_count": 14,
   "id": "2b63c2a8",
   "metadata": {
    "execution": {
     "iopub.execute_input": "2024-01-23T11:19:31.696650Z",
     "iopub.status.busy": "2024-01-23T11:19:31.696266Z",
     "iopub.status.idle": "2024-01-23T11:19:32.428499Z",
     "shell.execute_reply": "2024-01-23T11:19:32.427527Z"
    },
    "papermill": {
     "duration": 2.51449,
     "end_time": "2024-01-23T11:19:32.430723",
     "exception": false,
     "start_time": "2024-01-23T11:19:29.916233",
     "status": "completed"
    },
    "tags": []
   },
   "outputs": [
    {
     "name": "stderr",
     "output_type": "stream",
     "text": [
      "Downloading...\n",
      "From: https://drive.google.com/uc?id=1wHL8oi0-4oRv3pfRu5g9QcJOsddieN6O\n",
      "To: /kaggle/working/unpaired_structures.tsv\n",
      "100%|██████████| 352k/352k [00:00<00:00, 109MB/s]\n"
     ]
    }
   ],
   "source": [
    "# @title Download structures datataset\n",
    "\n",
    "url_id = '1wHL8oi0-4oRv3pfRu5g9QcJOsddieN6O' # @param {type:\"string\"}\n",
    "url = 'https://drive.google.com/uc?id=' + url_id\n",
    "\n",
    "output_file = 'unpaired_structures.tsv'\n",
    "gdown.download(url, output_file, quiet=False)\n",
    "# Load the CSV file into a pandas DataFrame\n",
    "df = pd.read_csv(output_file, sep='\\t')"
   ]
  },
  {
   "cell_type": "code",
   "execution_count": 15,
   "id": "6b8d9569",
   "metadata": {
    "execution": {
     "iopub.execute_input": "2024-01-23T11:19:35.977406Z",
     "iopub.status.busy": "2024-01-23T11:19:35.977018Z",
     "iopub.status.idle": "2024-01-23T11:19:36.575540Z",
     "shell.execute_reply": "2024-01-23T11:19:36.574312Z"
    },
    "papermill": {
     "duration": 2.378226,
     "end_time": "2024-01-23T11:19:36.577657",
     "exception": false,
     "start_time": "2024-01-23T11:19:34.199431",
     "status": "completed"
    },
    "tags": []
   },
   "outputs": [
    {
     "name": "stderr",
     "output_type": "stream",
     "text": [
      "Downloading...\n",
      "From: https://drive.google.com/uc?id=1xnkcwYhzu68IxRufv3gd4xACgd8sBEt9\n",
      "To: /kaggle/working/rfam_df.tsv\n",
      "100%|██████████| 22.4k/22.4k [00:00<00:00, 31.2MB/s]\n"
     ]
    }
   ],
   "source": [
    "# @title Download and load Rfam dataframe\n",
    "\n",
    "url_id = \"1xnkcwYhzu68IxRufv3gd4xACgd8sBEt9\" # @param {type:\"string\"}\n",
    "url = 'https://drive.google.com/uc?id=' + url_id\n",
    "\n",
    "output_file = 'rfam_df.tsv'\n",
    "gdown.download(url, output_file, quiet=False)\n",
    "\n",
    "# Load the Pickle file into a Pandas DataFrame\n",
    "rfam_df = pd.read_csv(output_file,\n",
    "                      comment='#', engine='python', header=0)"
   ]
  },
  {
   "cell_type": "code",
   "execution_count": 16,
   "id": "12764c85",
   "metadata": {
    "execution": {
     "iopub.execute_input": "2024-01-23T11:19:40.076656Z",
     "iopub.status.busy": "2024-01-23T11:19:40.076254Z",
     "iopub.status.idle": "2024-01-23T11:19:40.116426Z",
     "shell.execute_reply": "2024-01-23T11:19:40.115662Z"
    },
    "papermill": {
     "duration": 1.752558,
     "end_time": "2024-01-23T11:19:40.118342",
     "exception": false,
     "start_time": "2024-01-23T11:19:38.365784",
     "status": "completed"
    },
    "tags": []
   },
   "outputs": [],
   "source": [
    "rfam_df['target3'].fillna('', inplace=True)\n",
    "rfam_df['target4'].fillna('', inplace=True)\n",
    "rfam_df['target5'].fillna('', inplace=True)\n",
    "\n",
    "# Combine values in target1 to target5 columns into a single column called 'description'\n",
    "rfam_df['description'] = rfam_df[['target1',\n",
    "                                  'target2',\n",
    "                                  'target3',\n",
    "                                  'target4',\n",
    "                                  'target5']\n",
    "                                 ].apply(lambda row: ' '.join(row), axis=1)\n",
    "\n",
    "# Strip whitespaces from the sides of the resulting column\n",
    "rfam_df['description'] = rfam_df['description'].str.strip()\n",
    "\n",
    "# Drop the original target1 to target5 columns if you want\n",
    "rfam_df = rfam_df.drop(['target1', 'target2', 'target3', 'target4', 'target5'], axis=1)\n",
    "\n",
    "\n",
    "all_RNP_set = set(df[df['RNA_type'] == 'RNP']['rna_name'])\n",
    "rfam_RNP_set = set(list(rfam_df['query_name']))\n",
    "not_in_rfam = all_RNP_set - rfam_RNP_set\n",
    "\n",
    "# Get the indices of rows with the highest score in each group\n",
    "idx_max = rfam_df.groupby('query_name')['score'].idxmax()\n",
    "\n",
    "# Filter the original DataFrame using the obtained indices\n",
    "rfam_df = rfam_df.loc[idx_max]"
   ]
  },
  {
   "cell_type": "markdown",
   "id": "51e359b3",
   "metadata": {
    "papermill": {
     "duration": 1.831403,
     "end_time": "2024-01-23T11:19:43.716656",
     "exception": false,
     "start_time": "2024-01-23T11:19:41.885253",
     "status": "completed"
    },
    "tags": []
   },
   "source": [
    "## Functions definition"
   ]
  },
  {
   "cell_type": "code",
   "execution_count": 17,
   "id": "c1de0eca",
   "metadata": {
    "execution": {
     "iopub.execute_input": "2024-01-23T11:19:47.294903Z",
     "iopub.status.busy": "2024-01-23T11:19:47.294486Z",
     "iopub.status.idle": "2024-01-23T11:19:47.444334Z",
     "shell.execute_reply": "2024-01-23T11:19:47.443418Z"
    },
    "papermill": {
     "duration": 1.959677,
     "end_time": "2024-01-23T11:19:47.446843",
     "exception": false,
     "start_time": "2024-01-23T11:19:45.487166",
     "status": "completed"
    },
    "tags": []
   },
   "outputs": [],
   "source": [
    "#@title Function definitions\n",
    "\n",
    "def dot_bracket_to_matrix_2(dot_bracket):\n",
    "    L = len(dot_bracket)\n",
    "    contact_matrix = np.zeros((L, L))\n",
    "\n",
    "    look_for = [('(',')'),('[',']'),('{','}'),('<','>'), ('A', 'a')]\n",
    "\n",
    "    for open, close in look_for:\n",
    "        for i_x, base_x in enumerate(dot_bracket):\n",
    "            if base_x == open:\n",
    "\n",
    "                # Finding first closed bracket ahead\n",
    "                first_closing = dot_bracket[i_x:].find(close)\n",
    "\n",
    "                # Counting the number of ( between subject ( and first )\n",
    "                N = dot_bracket[i_x:first_closing+i_x].count(open)\n",
    "\n",
    "                # To find the ) matching the subject (, we have to search\n",
    "                # for the (N)th ) ahead of our (\n",
    "                c = 0\n",
    "                i_match = 0\n",
    "                for i_y, base_y in enumerate(dot_bracket[i_x+first_closing:]):\n",
    "                    if base_y == open:\n",
    "                        N += 1\n",
    "\n",
    "                    if base_y == close:\n",
    "                        c += 1\n",
    "                        if c == N:\n",
    "\n",
    "                            i_match =  i_x + first_closing + i_y\n",
    "                            break\n",
    "\n",
    "                contact_matrix[i_x, i_match] = 1\n",
    "                contact_matrix[i_match, i_x] = 1\n",
    "\n",
    "            else:\n",
    "                continue\n",
    "\n",
    "    return contact_matrix.astype(np.uint8)\n",
    "\n",
    "\n",
    "def filter_matrices(row, M):\n",
    "    mat1 = row['matrix_structure']\n",
    "    return mat1.shape[0] >= M or mat1.shape[1] >= M\n",
    "\n",
    "\n",
    "def pad_matrix(matrix, M):\n",
    "    # Get the dimensions of the input matrix\n",
    "    original_shape = matrix.shape\n",
    "\n",
    "    # Calculate the padding for each side\n",
    "    pad_amount_top = (M - original_shape[0]) // 2\n",
    "    pad_amount_bottom = M - original_shape[0] - pad_amount_top\n",
    "\n",
    "    pad_amount_left = (M - original_shape[1]) // 2\n",
    "    pad_amount_right = M - original_shape[1] - pad_amount_left\n",
    "\n",
    "    # Pad the matrix symmetrically on each side with zeros\n",
    "    padded_matrix = np.pad(matrix, ((pad_amount_top, pad_amount_bottom), (pad_amount_left, pad_amount_right)), mode='constant', constant_values=0)\n",
    "\n",
    "    return padded_matrix\n",
    "\n",
    "\n",
    "def cos_similarity(row):\n",
    "  cosine_similarity = metrics.CosineSimilarity()\n",
    "  emb_1 = row['embedding_vector_1']\n",
    "  emb_2 = row['embedding_vector_2']\n",
    "  cos_similarity = cosine_similarity(emb_1, emb_2).numpy()\n",
    "\n",
    "  return cos_similarity\n",
    "\n",
    "\n",
    "def square_dist(emb1, emb2):\n",
    "  distance = tf.reduce_sum(tf.square(emb1 - emb2), -1).numpy()[0]\n",
    "\n",
    "  return distance\n",
    "\n",
    "def euclidean_distance(row):\n",
    "    emb_1 = row['embedding_vector_1']\n",
    "    emb_2 = row['embedding_vector_2']\n",
    "\n",
    "    return tf.norm(emb_1 - emb_2).numpy()\n",
    "\n",
    "\n",
    "def get_corr_matrix(df, metrics=['cosine_similarity',\n",
    "                                 'square_distance',\n",
    "                                 'euclidean_distance']):\n",
    "\n",
    "  return df[metrics].corr()\n",
    "\n",
    "\n",
    "def length_average(A, B):\n",
    "    len_A = len(A)\n",
    "    len_B = len(B)\n",
    "    average = (len_A + len_B) / 2\n",
    "\n",
    "    return average\n",
    "\n",
    "def relative_difference(A, B):\n",
    "    len_A = len(A)\n",
    "    len_B = len(B)\n",
    "    average = (len_A + len_B) / 2\n",
    "    relative_difference = abs(len_A - len_B) / average * 100\n",
    "\n",
    "    return relative_difference\n",
    "\n",
    "\n",
    "def plot_ROC(binary_pair_type, score):\n",
    "    # Compute ROC curve and AUC\n",
    "    fpr, tpr, thresholds = roc_curve(binary_pair_type, score)\n",
    "    roc_auc = auc(fpr, tpr)\n",
    "\n",
    "    print('AUC =', str(round(roc_auc, 2)), '\\n')\n",
    "\n",
    "\n",
    "\n",
    "    # Plot ROC curve\n",
    "    plt.figure(figsize=(8, 8))\n",
    "    plt.plot(fpr, tpr, color='darkorange', lw=2, label='ROC curve (area = {:.2f})'.format(roc_auc))\n",
    "    plt.plot([0, 1], [0, 1], color='navy', lw=2, linestyle='--')\n",
    "    plt.xlabel('False Positive Rate')\n",
    "    plt.ylabel('True Positive Rate')\n",
    "    plt.title('Receiver Operating Characteristic (ROC) Curve')\n",
    "    plt.legend(loc='lower right')\n",
    "    plt.show()\n",
    "\n",
    "def compute_f1_score(binary_pair_type, score, threshold):\n",
    "  y_pred = (score > threshold).astype(int)\n",
    "  f1 = f1_score(binary_pair_type, y_pred)\n",
    "\n",
    "  return round(f1, 4)\n",
    "\n",
    "\n",
    "def plot_distribution(x, df, pairing_type='pair_type2'):\n",
    "\n",
    "    plt.figure(figsize=(12, 6))\n",
    "    xlim = df[x].max()\n",
    "    binwidth = xlim/100\n",
    "    plt.xlim(0, xlim)\n",
    "    title = 'Frequency Distribution of ' + x.capitalize()\n",
    "    sns.set(style=\"whitegrid\")\n",
    "\n",
    "    # Create a histogram with colored bins based on pair_type\n",
    "    g = sns.histplot(data=df, x=x, hue=pairing_type, element='step', stat='density', common_norm=False, binwidth=binwidth)\n",
    "\n",
    "    # Set plot labels and title\n",
    "    g.set(xlabel=x.capitalize(), ylabel='Frequency', title=title)\n",
    "\n",
    "    # Move the legend outside the plot\n",
    "    sns.move_legend( g, \"upper left\", bbox_to_anchor=(1, 1), title='Pair type')\n",
    "\n",
    "    # Display the plot\n",
    "    plt.show()\n",
    "\n",
    "\n",
    "def create_pairs_categories1(row, RNA_type):\n",
    "  if row['group_1'] == RNA_type and row['group_2'] == RNA_type:\n",
    "    return RNA_type+'-'+RNA_type\n",
    "  else:\n",
    "    return 'random'\n",
    "\n",
    "\n",
    "def create_pairs_categories2(row, RNA_type):\n",
    "  if row['group_1'] == RNA_type and row['group_2'] == RNA_type:\n",
    "    return RNA_type+'-'+RNA_type\n",
    "  elif (row['group_1'] == RNA_type and row['group_2'] == 'random') or \\\n",
    "       (row['group_1'] == 'random' and row['group_2'] ==  RNA_type):\n",
    "       return RNA_type+'-'+'random'\n",
    "  else:\n",
    "    return 'random-random'\n",
    "\n",
    "def create_pairs_categories3(row, RNA_type):\n",
    "  if row['rna_class_1'] == row['rna_class_2']:\n",
    "    return row['rna_class_1']\n",
    "  elif row['rna_class_1'] == 'random' or \\\n",
    "    row['rna_class_2'] == 'random':\n",
    "    return 'random'\n",
    "  else:\n",
    "    return 'Different class RNAse P pair'\n",
    "\n",
    "def create_pairs_categories4(row, RNA_type):\n",
    "\n",
    "  if row['rna_class_1'] == 'random' or \\\n",
    "  row['rna_class_2'] == 'random':\n",
    "    return 'Random pair'\n",
    "  elif row['rna_class_1'] == 'Unknown RNAse P class' or \\\n",
    "  row['rna_class_2'] == 'Unknown RNAse P class':\n",
    "    return 'Unknown class RNAse P pair'\n",
    "  elif row['rna_class_1'] == row['rna_class_2']:\n",
    "    return 'Same class RNAse P pair'\n",
    "  elif row['group_1'] == 'RNP' and row['group_2'] == 'RNP':\n",
    "    return 'Different class RNAse P pair'\n",
    "  else:\n",
    "    return 'Random pair'\n",
    "\n",
    "\n",
    "def create_pairs_binary(row, RNA_type):\n",
    "  if row['group_1'] == RNA_type and row['group_2'] == RNA_type:\n",
    "    return 1\n",
    "  else:\n",
    "    return 0\n",
    "\n",
    "\n",
    "def get_alignment_score(seq1, seq2):\n",
    "  seq_pair = needle.NeedlemanWunsch(seq1, seq2)\n",
    "  seq_pair.align()\n",
    "\n",
    "  return seq_pair.get_score()\n",
    "\n",
    "\n",
    "def model_stadistics(df, metric, metric_type, RNA_type, pairing_type='pair_type2', f1_threshold=0.5):\n",
    "\n",
    "  target_pair = RNA_type+'-'+RNA_type\n",
    "\n",
    "  target_metric_serie = df.loc[\n",
    "      df.pair_type ==  target_pair, metric]\n",
    "\n",
    "  random_metric_serie = df.loc[\n",
    "      df.pair_type ==  'random', metric]\n",
    "\n",
    "  target_metric_mean = target_metric_serie.mean()\n",
    "  random_metric_mean = random_metric_serie.mean()\n",
    "\n",
    "  print(target_pair + ' pairs mean ' + metric + ' =', round(target_metric_mean, 3))\n",
    "  print('Random pairs mean'  + metric + ' =', round(random_metric_mean, 3))\n",
    "\n",
    "  # Perform the t-test\n",
    "  t_statistic, p_value = ttest_ind(target_metric_serie,\n",
    "                                  random_metric_serie,\n",
    "                                  equal_var=False)\n",
    "\n",
    "  if p_value == 0:\n",
    "    print(f\"P-value < 1e-324\")\n",
    "  else:\n",
    "    print(f\"P-value = {p_value}\")\n",
    "\n",
    "\n",
    "  if metric_type == 'similarity':\n",
    "    score = df[metric]\n",
    "    use_f1_threshold = f1_threshold\n",
    "  elif metric_type == 'distance':\n",
    "    score = 1/df[metric]\n",
    "    use_f1_threshold = 1/f1_threshold\n",
    "\n",
    "  else:\n",
    "    raise ValueError(\"Invalid metric_type\")\n",
    "\n",
    "  f1 = compute_f1_score(df['binary_pair_type'],\n",
    "                      score,\n",
    "                      threshold = use_f1_threshold)\n",
    "\n",
    "  print('F1 Score =', f1, '(threshold = '+str(f1_threshold)+')')\n",
    "\n",
    "  plot_ROC(df['binary_pair_type'], score)\n",
    "\n",
    "  print('\\n')\n",
    "\n",
    "  plot_distribution(x=metric, df=df, pairing_type=pairing_type)\n",
    "\n",
    "\n",
    "def get_RNP_class(row):\n",
    "\n",
    "  RNA_type = row['RNA_type']\n",
    "\n",
    "  if RNA_type == 'random':\n",
    "    return 'random'\n",
    "\n",
    "  else:\n",
    "    pass\n",
    "\n",
    "  rna_name = row['rna_name']\n",
    "\n",
    "  if rna_name in not_in_rfam:\n",
    "    return 'Unknown RNAse P class'\n",
    "  else:\n",
    "    RNP_class = rfam_df.loc[rfam_df['query_name'] == rna_name].iloc[0]['description']\n",
    "    return RNP_class\n",
    "\n",
    "df['rna_class'] = df.apply(get_RNP_class, axis = 1)\n",
    "\n",
    "\n",
    "def windows_square_dist(embedding_vector_windows_1, embedding_vector_windows_2):\n",
    "\n",
    "  structure_1_windows_n = len(embedding_vector_windows_1)\n",
    "  structure_2_windows_n = len(embedding_vector_windows_2)\n",
    "  if structure_1_windows_n < structure_2_windows_n:\n",
    "    embedding_vector_windows_A = embedding_vector_windows_1\n",
    "    embedding_vector_windows_B = embedding_vector_windows_2\n",
    "  else:\n",
    "    embedding_vector_windows_A = embedding_vector_windows_2\n",
    "    embedding_vector_windows_B = embedding_vector_windows_1\n",
    "\n",
    "  distances = []\n",
    "  \n",
    "  for embedding_vector_A in embedding_vector_windows_A:\n",
    "    window_A_distances = []\n",
    "    for embedding_vector_B in embedding_vector_windows_B:\n",
    "      distance = square_dist(embedding_vector_A, embedding_vector_B)\n",
    "      window_A_distances.append(distance)\n",
    "\n",
    "    distances.append(window_A_distances)\n",
    "\n",
    "  return distances"
   ]
  },
  {
   "cell_type": "markdown",
   "id": "0ff3d2ae",
   "metadata": {
    "papermill": {
     "duration": 1.677655,
     "end_time": "2024-01-23T11:19:50.926742",
     "exception": false,
     "start_time": "2024-01-23T11:19:49.249087",
     "status": "completed"
    },
    "tags": []
   },
   "source": [
    "## SS_Windower function definitions"
   ]
  },
  {
   "cell_type": "code",
   "execution_count": 18,
   "id": "4ad964f7",
   "metadata": {
    "execution": {
     "iopub.execute_input": "2024-01-23T11:19:54.414277Z",
     "iopub.status.busy": "2024-01-23T11:19:54.413805Z",
     "iopub.status.idle": "2024-01-23T11:19:54.454713Z",
     "shell.execute_reply": "2024-01-23T11:19:54.453900Z"
    },
    "papermill": {
     "duration": 1.806008,
     "end_time": "2024-01-23T11:19:54.456835",
     "exception": false,
     "start_time": "2024-01-23T11:19:52.650827",
     "status": "completed"
    },
    "tags": []
   },
   "outputs": [],
   "source": [
    "#@title Function definitions\n",
    "\n",
    "def dot_bracket_to_matrix_2(dot_bracket):\n",
    "    L = len(dot_bracket)\n",
    "    contact_matrix = np.zeros((L, L))\n",
    "\n",
    "    look_for = [('(',')'),('[',']'),('{','}'),('<','>'), ('A', 'a')]\n",
    "\n",
    "    for open, close in look_for:\n",
    "        for i_x, base_x in enumerate(dot_bracket):\n",
    "            if base_x == open:\n",
    "\n",
    "                # Finding first closed bracket ahead\n",
    "                first_closing = dot_bracket[i_x:].find(close)\n",
    "\n",
    "                # Counting the number of ( between subject ( and first )\n",
    "                N = dot_bracket[i_x:first_closing+i_x].count(open)\n",
    "\n",
    "                # To find the ) matching the subject (, we have to search\n",
    "                # for the (N)th ) ahead of our (\n",
    "                c = 0\n",
    "                i_match = 0\n",
    "                for i_y, base_y in enumerate(dot_bracket[i_x+first_closing:]):\n",
    "                    if base_y == open:\n",
    "                        N += 1\n",
    "\n",
    "                    if base_y == close:\n",
    "                        c += 1\n",
    "                        if c == N:\n",
    "\n",
    "                            i_match =  i_x + first_closing + i_y\n",
    "                            break\n",
    "\n",
    "                contact_matrix[i_x, i_match] = 1\n",
    "                contact_matrix[i_match, i_x] = 1\n",
    "\n",
    "            else:\n",
    "                continue\n",
    "\n",
    "    return contact_matrix.astype(np.uint8)\n",
    "\n",
    "\n",
    "def remove_pseudoknots(db):\n",
    "  look_for = [('[',']'),('{','}'),('<','>'), ('A', 'a')]\n",
    "\n",
    "  for open, close in look_for:\n",
    "\n",
    "    db = db.replace(open, '.')\n",
    "    db = db.replace(close, '.')\n",
    "\n",
    "  return db\n",
    "\n",
    "\n",
    "def draw_cuts(before, windows=[]):\n",
    "\n",
    "  fig = plt.figure(figsize=(15, 10))\n",
    "\n",
    "  plt.rcParams['figure.figsize'] = [8.0, 6.0]\n",
    "  cg1 = forgi.load_rna(before, allow_many=False)\n",
    "  fvm.plot_rna(cg1, text_kwargs={\"fontweight\":\"black\"}, lighten=0.7,\n",
    "              backbone_kwargs={\"linewidth\":3})\n",
    "  plt.title('Before')\n",
    "\n",
    "  plt.show()\n",
    "\n",
    "  fig = plt.figure(figsize=(15, 10))\n",
    "\n",
    "  n_rows = int(math.ceil(len(windows) / 2))\n",
    "\n",
    "  for id, window in enumerate(windows):\n",
    "    \n",
    "    plt.subplot(n_rows, 2, id+1)\n",
    "    plt.rcParams['figure.figsize'] = [8.0, 6.0]\n",
    "    cg = forgi.load_rna(window, allow_many=False)\n",
    "    fvm.plot_rna(cg, text_kwargs={\"fontweight\":\"black\"}, lighten=0.7,\n",
    "                backbone_kwargs={\"linewidth\":3})\n",
    "    plt.title('Cut #' + str(id+1))\n",
    "\n",
    "  plt.show()\n",
    "\n",
    "\n",
    "def plot_array(array, x_cut=None, reverse_colors=False):\n",
    "  ''' Plots a bar showing the different values along the 1D array with\n",
    "  different colors '''\n",
    "\n",
    "  colors = plt.cm.viridis(array)\n",
    "\n",
    "  # Create a figure and axis\n",
    "  fig, ax = plt.subplots(figsize=(10, 1))\n",
    "\n",
    "  # Plot the color bar\n",
    "  cax = ax.matshow([array], cmap='viridis', aspect='auto')\n",
    "\n",
    "  if reverse_colors:\n",
    "    cax.set_cmap('viridis_r')\n",
    "\n",
    "  # Remove y-axis ticks and labels\n",
    "  ax.set_yticks([])\n",
    "\n",
    "  # Add color bar\n",
    "  fig.colorbar(cax, orientation='horizontal', aspect=50)\n",
    "  if x_cut:\n",
    "    ax.axvline(x=x_cut, color='red', linestyle='dashed')\n",
    "\n",
    "  # Show the plot\n",
    "  plt.show()\n",
    "\n",
    "\n",
    "def find_one(arr):\n",
    "  ''' Given an array, it returns i where arr[i] == 1 '''\n",
    "  \n",
    "  if np.any(arr == 1):\n",
    "      return np.argmax(arr)\n",
    "  else:\n",
    "      return np.nan\n",
    "\n",
    "\n",
    "def cut_structure(db, x_cut, y_cut):\n",
    "  ''' Given a dotbracket structure and two coordinates of two paired bases\n",
    "  inside a stem, it returns two slices of the structure that results from\n",
    "  cutting it in that particular location\n",
    "  '''\n",
    "\n",
    "  first = min(x_cut, y_cut)\n",
    "  last = max(x_cut, y_cut)\n",
    "\n",
    "  cut1 = db[:first+1] + db[last:]\n",
    "  cut2 = db[first+1:last]\n",
    "\n",
    "  return cut1, cut2\n",
    "\n",
    "def get_slices_length_difs(db):\n",
    "  ''' This function creates a slices_length_difs, which is an array that shows\n",
    "  what would be the difference of the length of the resulting slices when\n",
    "  cutting the secondary structure in each position.\n",
    "  '''\n",
    "\n",
    "  matrix = dot_bracket_to_matrix_2(db)\n",
    "\n",
    "  half_matrix = matrix.copy()\n",
    "  half_matrix[np.tril_indices_from(half_matrix, k=-1)] = 0\n",
    "\n",
    "  slices_length_difs = np.full(matrix.shape[0], np.nan)\n",
    "\n",
    "  for x_index, x in enumerate(half_matrix):\n",
    "\n",
    "    y_index = find_one(x)\n",
    "\n",
    "    if not(np.isnan(y_index)):\n",
    "      first = min(x_index, y_index)\n",
    "      last = max(x_index, y_index)\n",
    "      cut1 = db[:first+1] + db[last:]\n",
    "      cut2 = db[first+1:last]\n",
    "      dist = abs(len(cut1)-len(cut2))\n",
    "      slices_length_difs[x_index] = dist\n",
    "\n",
    "  return slices_length_difs\n",
    "\n",
    "\n",
    "def get_best_cut_coords(db, slices_length_difs):\n",
    "  ''' Using the slices_length_difs, it returns the x and y coordinates of the\n",
    "  structure, where the cut produce the smaller difference between the resulting\n",
    "  slices '''\n",
    "\n",
    "  matrix = dot_bracket_to_matrix_2(db)\n",
    "\n",
    "  # Find indices where the values are not equal to np.nan\n",
    "  valid_indices =  np.where(~np.isnan(slices_length_difs))[0]\n",
    "\n",
    "  # # Find the index of the minimum value among the valid indices\n",
    "  cut_x_coord = valid_indices[np.argmin(slices_length_difs[valid_indices])]\n",
    "  cut_y_coord = find_one(matrix[cut_x_coord])\n",
    "\n",
    "  return (cut_x_coord, cut_y_coord)\n",
    "\n",
    "\n",
    "def get_shift_cut_distances(db, slices_length_difs):\n",
    "  ''' Given a dot bracket structure, it creates an array that maps the\n",
    "  difference in the length of all possible dobuble strand cuts in stems of the \n",
    "  structure\n",
    "  '''\n",
    "\n",
    "  (x_best, y_best) = get_best_cut_coords(db, slices_length_difs)\n",
    "\n",
    "  matrix = dot_bracket_to_matrix_2(db)\n",
    "\n",
    "  half_matrix = matrix.copy()\n",
    "  half_matrix[np.tril_indices_from(half_matrix, k=-1)] = 0\n",
    "\n",
    "  shift_cut_distances = np.full(matrix.shape[0], np.nan)\n",
    "\n",
    "  for x_index, x in enumerate(half_matrix):\n",
    "\n",
    "    y_index = find_one(x)\n",
    "\n",
    "    if not(np.isnan(y_index)):\n",
    "\n",
    "      cut_distance = math.sqrt((x_best - x_index)**2 + (y_best - y_index)**2)\n",
    "      shift_cut_distances[x_index] = cut_distance\n",
    "\n",
    "  return shift_cut_distances\n",
    "\n",
    "\n",
    "def get_shifted_cut_coords(db, slices_length_difs, shift_cut_distances,\n",
    "                    thetha1, thetha2,\n",
    "                    min_distance_init, min_distance_limit, min_distance_step,\n",
    "                    max_difference_init, max_difference_limit, max_difference_step\n",
    "                    ):\n",
    "  ''' Given a dotbracket structure, a slices_length_difs and a shift_cut_distances,\n",
    "  it selects a x and y coordinates for a cut that is shifted some positions\n",
    "  with respect to the optimal x and y (the ones returned by get_best_cut_coords)\n",
    "  These x and y are estimated in a way that the new cut is made at certain\n",
    "  distance from the optimal cut site, but trying to keep a low difference\n",
    "  between the resulting slices. The parameters thetha1 and theta2 give different\n",
    "  weights to ponderate more getting a big distance respect the optimal cut site\n",
    "  (thetha1) or getting a small difference between the resulting slices (thetha2)\n",
    "  We set the inital minimal distance respect the optimal site (min_distance_init)\n",
    "  which will be decreasing a min_distance_step each time that no cut site is\n",
    "  found with these parameters, until reaching a limit of min_distance_limit\n",
    "  Also, we set the initial max difference between the size of the resulting cuts\n",
    "  (max_difference_init), which tolerance also will be increasing an amount of\n",
    "  max_difference_step each time that no cut site is found, until reaching a\n",
    "  limit of max_difference_limit\n",
    "  '''\n",
    "\n",
    "  dist_dif_array = np.where((shift_cut_distances != -1) & (slices_length_difs != -1),  #### ALTERTA REVISAR EL != -1!!!!\n",
    "                    (thetha1 * shift_cut_distances - thetha2 * slices_length_difs ),\n",
    "                    -1)\n",
    "\n",
    "  x_selected_coord = None\n",
    "\n",
    "  min_distance = min_distance_init\n",
    "  max_difference = max_difference_init\n",
    "\n",
    "  distance_limit_reached = False\n",
    "  difference_limit_reached = False\n",
    "\n",
    "  while (x_selected_coord == None):\n",
    "    try:\n",
    "      valid_indices =  np.where(~np.isnan(shift_cut_distances) &\n",
    "                                (shift_cut_distances > min_distance) &\n",
    "                                 (slices_length_difs < max_difference)\n",
    "                                 )[0]\n",
    "\n",
    "      x_selected_coord = valid_indices[np.argmax(dist_dif_array[valid_indices])]\n",
    "    except ValueError:\n",
    "      if min_distance > min_distance_limit:\n",
    "        min_distance -= min_distance_step\n",
    "      else:\n",
    "        distance_limit_reached = True\n",
    "      if max_difference < max_difference_limit:\n",
    "        max_difference += max_difference_step\n",
    "      else:\n",
    "        difference_limit_reached = True\n",
    "    finally:\n",
    "      if difference_limit_reached and distance_limit_reached:\n",
    "        return None\n",
    "\n",
    "  ############\n",
    "\n",
    "  matrix = dot_bracket_to_matrix_2(db)\n",
    "\n",
    "  y_selected_coord = find_one(matrix[x_selected_coord])\n",
    "\n",
    "  return (x_selected_coord, y_selected_coord)\n",
    "  \n",
    "\n",
    "def get_ss_windows(db, max_size=120, mode='best',\n",
    "                   thetha1=None, thetha2=None,\n",
    "                   min_distance_init=None, \n",
    "                   min_distance_limit=None,\n",
    "                   min_distance_step=1,\n",
    "                   max_difference_init=None,\n",
    "                   max_difference_limit=None,\n",
    "                   max_difference_step=1):\n",
    "\n",
    "  windows = [db]\n",
    "  big_windows = [w for w in windows if len(w) > max_size]\n",
    "  windows = [w for w in windows if len(w) <= max_size]\n",
    "\n",
    "  \n",
    "\n",
    "  first_cut = True\n",
    "\n",
    "  while any(big_windows):\n",
    "    for window in big_windows:\n",
    "\n",
    "      slices_length_difs = get_slices_length_difs(window)\n",
    "\n",
    "      if mode=='best' or (not first_cut):\n",
    "        (x_coord, y_coord) = get_best_cut_coords(window, slices_length_difs)\n",
    "        \n",
    "      elif mode=='shifted' and first_cut:\n",
    "\n",
    "        first_cut = False\n",
    "        shift_cut_distances = get_shift_cut_distances(window, slices_length_difs)\n",
    "\n",
    "        coords = shift_cut_distances = get_shifted_cut_coords(\n",
    "                  window, slices_length_difs, shift_cut_distances,\n",
    "                  thetha1, thetha2,\n",
    "                  min_distance_init, min_distance_limit, min_distance_step,\n",
    "                  max_difference_init, max_difference_limit, max_difference_step\n",
    "                  )\n",
    "        \n",
    "        if coords is None:\n",
    "          return []\n",
    "\n",
    "        else:\n",
    "          x_coord = coords[0]\n",
    "          y_coord = coords[1]\n",
    "\n",
    "      cut1, cut2 = cut_structure(window, x_coord, y_coord)\n",
    "      \n",
    "      if window != cut1 and windows != cut2:\n",
    "        windows.append(cut1)\n",
    "        windows.append(cut2)\n",
    "\n",
    "    big_windows = [w for w in windows if (len(w) > max_size and w != '.'*len(w))]\n",
    "    windows = [w for w in windows if len(w) <= max_size]\n",
    "\n",
    "    #Filter out only dots windows\n",
    "    windows = [w for w in windows if w != '.'*len(w)]\n",
    "    # print(big_windows)\n",
    "\n",
    "  return windows"
   ]
  },
  {
   "cell_type": "markdown",
   "id": "9e21822b",
   "metadata": {
    "papermill": {
     "duration": 1.797396,
     "end_time": "2024-01-23T11:19:58.024986",
     "exception": false,
     "start_time": "2024-01-23T11:19:56.227590",
     "status": "completed"
    },
    "tags": []
   },
   "source": [
    "##  Divide structures in windows\n"
   ]
  },
  {
   "cell_type": "code",
   "execution_count": 19,
   "id": "0f5b54cf",
   "metadata": {
    "_kg_hide-output": true,
    "execution": {
     "iopub.execute_input": "2024-01-23T11:20:01.571297Z",
     "iopub.status.busy": "2024-01-23T11:20:01.570461Z",
     "iopub.status.idle": "2024-01-23T11:20:18.791081Z",
     "shell.execute_reply": "2024-01-23T11:20:18.789824Z"
    },
    "papermill": {
     "duration": 19.014661,
     "end_time": "2024-01-23T11:20:18.793238",
     "exception": false,
     "start_time": "2024-01-23T11:19:59.778577",
     "status": "completed"
    },
    "tags": []
   },
   "outputs": [
    {
     "name": "stderr",
     "output_type": "stream",
     "text": [
      "Removing pseudoknots: 100%|██████████| 506/506 [00:00<00:00, 44797.32it/s]\n",
      "Dividing structures in windows: 100%|██████████| 506/506 [00:05<00:00, 94.52it/s]\n",
      "Dividing structures in slided windows: 100%|██████████| 506/506 [00:11<00:00, 42.83it/s]\n",
      "Joining standard with slided windows: 100%|██████████| 506/506 [00:00<00:00, 45293.51it/s]\n"
     ]
    }
   ],
   "source": [
    "max_windows_size = 247 # @param {type:\"integer\"}\n",
    "\n",
    "# Remove pseudoknots\n",
    "tqdm.pandas(desc='Removing pseudoknots')\n",
    "df['structures_wo_pk'] = df.progress_apply(lambda x: remove_pseudoknots(x['structure']),\n",
    "                                      axis=1)\n",
    "\n",
    "tqdm.pandas(desc='Dividing structures in windows')\n",
    "df['db_windows'] = df.progress_apply(lambda x: get_ss_windows(x['structures_wo_pk'],\n",
    "                                                              max_size= max_windows_size,\n",
    "                                                              mode='best'),\n",
    "                                      axis=1)\n",
    "\n",
    "# max_difference_init = 21\n",
    "# max_difference_limit = 211\n",
    "# min_distance_init = 149\n",
    "# min_distance_limit = 17\n",
    "\n",
    "\n",
    "tqdm.pandas(desc='Dividing structures in slided windows')\n",
    "df['db_sliding_windows'] = df.progress_apply(lambda x: get_ss_windows( x['structures_wo_pk'],\n",
    "                                                                      max_size=max_windows_size, \n",
    "                                                                      mode='shifted',\n",
    "                                                                      thetha1=18.5, thetha2=5.4,\n",
    "                                                                      min_distance_init=149, \n",
    "                                                                      min_distance_limit=17,\n",
    "                                                                      min_distance_step=3,\n",
    "                                                                      max_difference_init=21,\n",
    "                                                                      max_difference_limit=211,\n",
    "                                                                      max_difference_step=4), \n",
    "                                             axis=1)\n",
    "\n",
    "tqdm.pandas(desc='Joining standard with slided windows')\n",
    "df['db_all_windows'] = df.progress_apply(lambda x: x['db_windows']+x['db_sliding_windows'], \n",
    "                                             axis=1)\n",
    "\n",
    "# # Check if all generated windows have balanced opened and closed parentheses\n",
    "# result = df['db_windows'].apply(check_parentheses_balance)\n",
    "# assert result.all(), \"Some windows have unbalanced parentheses\""
   ]
  },
  {
   "cell_type": "code",
   "execution_count": 20,
   "id": "9c7260fa",
   "metadata": {
    "execution": {
     "iopub.execute_input": "2024-01-23T11:20:22.310772Z",
     "iopub.status.busy": "2024-01-23T11:20:22.310120Z",
     "iopub.status.idle": "2024-01-23T11:20:22.319427Z",
     "shell.execute_reply": "2024-01-23T11:20:22.318383Z"
    },
    "papermill": {
     "duration": 1.761016,
     "end_time": "2024-01-23T11:20:22.321586",
     "exception": false,
     "start_time": "2024-01-23T11:20:20.560570",
     "status": "completed"
    },
    "tags": []
   },
   "outputs": [
    {
     "name": "stdout",
     "output_type": "stream",
     "text": [
      "windows_num 1005\n",
      "windows size mean = 169.8\n",
      "windows size std = 34.2\n",
      "windows max size = 246\n",
      "windows min size = 39\n"
     ]
    }
   ],
   "source": [
    "windows_list = df['db_windows'].explode().tolist()\n",
    "windows_num = len(windows_list)\n",
    "windows_sizes = np.array([len(w) for w in windows_list])\n",
    "windows_mean_size = round(windows_sizes.mean(), 1)\n",
    "windows_std_size = round(windows_sizes.std(), 1)\n",
    "window_max_size = windows_sizes.max()\n",
    "window_min_size = windows_sizes.min()\n",
    "\n",
    "\n",
    "print('windows_num', windows_num)\n",
    "print('windows size mean =', windows_mean_size)\n",
    "print('windows size std =', windows_std_size)\n",
    "print('windows max size =', window_max_size)\n",
    "print('windows min size =', window_min_size)"
   ]
  },
  {
   "cell_type": "markdown",
   "id": "43b257c5",
   "metadata": {
    "papermill": {
     "duration": 1.773001,
     "end_time": "2024-01-23T11:20:25.893276",
     "exception": false,
     "start_time": "2024-01-23T11:20:24.120275",
     "status": "completed"
    },
    "tags": []
   },
   "source": [
    "## Transform the dot-brackets structures to contact matrices"
   ]
  },
  {
   "cell_type": "code",
   "execution_count": 21,
   "id": "01bef095",
   "metadata": {
    "execution": {
     "iopub.execute_input": "2024-01-23T11:20:29.474441Z",
     "iopub.status.busy": "2024-01-23T11:20:29.473642Z",
     "iopub.status.idle": "2024-01-23T11:20:31.464318Z",
     "shell.execute_reply": "2024-01-23T11:20:31.463223Z"
    },
    "papermill": {
     "duration": 3.772084,
     "end_time": "2024-01-23T11:20:31.466358",
     "exception": false,
     "start_time": "2024-01-23T11:20:27.694274",
     "status": "completed"
    },
    "tags": []
   },
   "outputs": [
    {
     "name": "stderr",
     "output_type": "stream",
     "text": [
      "Converting windows to contact matrices: 100%|██████████| 506/506 [00:00<00:00, 844.92it/s]\n",
      "Padding contact matrices: 100%|██████████| 506/506 [00:00<00:00, 5987.37it/s]\n",
      "Converting ALL windows to contact matrices: 100%|██████████| 506/506 [00:01<00:00, 455.50it/s]\n",
      "Padding ALL contact matrices: 100%|██████████| 506/506 [00:00<00:00, 2979.01it/s]\n"
     ]
    }
   ],
   "source": [
    "def parse_windows(windows, function):\n",
    "    return [function(window) for window in windows]\n",
    "\n",
    "def parse_matrices(matrices, function):\n",
    "    return [function(matrix, M=target_shape[0]) for matrix in matrices]\n",
    "\n",
    "tqdm.pandas(desc='Converting windows to contact matrices')\n",
    "df['matrices_windows'] = df.progress_apply(lambda x: parse_windows(x['db_windows'],\n",
    "                                                              dot_bracket_to_matrix_2),\n",
    "                                      axis=1)\n",
    "\n",
    "tqdm.pandas(desc='Padding contact matrices')\n",
    "df['paded_matrices_windows'] = df.progress_apply(lambda x: parse_matrices(x['matrices_windows'],\n",
    "                                                              pad_matrix),\n",
    "                                      axis=1)\n",
    "\n",
    "\n",
    "tqdm.pandas(desc='Converting ALL windows to contact matrices')\n",
    "df['matrices_all_windows'] = df.progress_apply(lambda x: parse_windows(x['db_all_windows'],\n",
    "                                                              dot_bracket_to_matrix_2),\n",
    "                                      axis=1)\n",
    "\n",
    "tqdm.pandas(desc='Padding ALL contact matrices')\n",
    "df['paded_matrices_all_windows'] = df.progress_apply(lambda x: parse_matrices(x['matrices_all_windows'],\n",
    "                                                              pad_matrix),\n",
    "                                      axis=1)"
   ]
  },
  {
   "cell_type": "markdown",
   "id": "b4156760",
   "metadata": {
    "papermill": {
     "duration": 1.785308,
     "end_time": "2024-01-23T11:20:35.022789",
     "exception": false,
     "start_time": "2024-01-23T11:20:33.237481",
     "status": "completed"
    },
    "tags": []
   },
   "source": [
    "## Forward pass for Similarity estimation"
   ]
  },
  {
   "cell_type": "code",
   "execution_count": 22,
   "id": "ce7963f9",
   "metadata": {
    "execution": {
     "iopub.execute_input": "2024-01-23T11:20:38.547443Z",
     "iopub.status.busy": "2024-01-23T11:20:38.546570Z",
     "iopub.status.idle": "2024-01-23T11:20:54.017119Z",
     "shell.execute_reply": "2024-01-23T11:20:54.016168Z"
    },
    "papermill": {
     "duration": 17.214773,
     "end_time": "2024-01-23T11:20:54.019358",
     "exception": false,
     "start_time": "2024-01-23T11:20:36.804585",
     "status": "completed"
    },
    "tags": []
   },
   "outputs": [
    {
     "name": "stderr",
     "output_type": "stream",
     "text": [
      "Creating embedding vectors: 100%|██████████| 506/506 [00:05<00:00, 99.68it/s]\n",
      "Creating embedding vectors for ALL windows: 100%|██████████| 506/506 [00:10<00:00, 48.76it/s]\n"
     ]
    }
   ],
   "source": [
    "# Create a column for adding the pairwise similarity\n",
    "df['embedding_vector_windows'] = None\n",
    "\n",
    "with tqdm(total=df.shape[0], desc=\"Creating embedding vectors\") as pbar:\n",
    "    for index, row in df.iterrows():\n",
    "        structure_embedding_vectors = []\n",
    "        for structure in row['paded_matrices_windows']:\n",
    "            structure_exp = tf.expand_dims(structure, axis=0)\n",
    "            structure_emb = embedding(structure_exp)\n",
    "            \n",
    "            structure_embedding_vectors.append(structure_emb)\n",
    "            \n",
    "        df.at[index, 'embedding_vector_windows'] = structure_embedding_vectors\n",
    "        pbar.update(1)\n",
    "    \n",
    "    \n",
    "df['embedding_vector_all_windows'] = None\n",
    "\n",
    "with tqdm(total=df.shape[0], desc=\"Creating embedding vectors for ALL windows\") as pbar:\n",
    "    for index, row in df.iterrows():\n",
    "        structure_embedding_vectors = []\n",
    "        for structure in row['paded_matrices_all_windows']:\n",
    "            structure_exp = tf.expand_dims(structure, axis=0)\n",
    "            structure_emb = embedding(structure_exp)\n",
    "            \n",
    "            structure_embedding_vectors.append(structure_emb)\n",
    "            \n",
    "        df.at[index, 'embedding_vector_all_windows'] = structure_embedding_vectors\n",
    "        pbar.update(1)"
   ]
  },
  {
   "cell_type": "code",
   "execution_count": 23,
   "id": "0125ef3f",
   "metadata": {
    "execution": {
     "iopub.execute_input": "2024-01-23T11:20:57.642349Z",
     "iopub.status.busy": "2024-01-23T11:20:57.641549Z",
     "iopub.status.idle": "2024-01-23T11:20:57.825675Z",
     "shell.execute_reply": "2024-01-23T11:20:57.824826Z"
    },
    "papermill": {
     "duration": 2.001653,
     "end_time": "2024-01-23T11:20:57.828015",
     "exception": false,
     "start_time": "2024-01-23T11:20:55.826362",
     "status": "completed"
    },
    "tags": []
   },
   "outputs": [],
   "source": [
    "results_list = list(zip(df['RNA_type'], df['rna_class'],\n",
    "                        df['rna_name'], df['sequence'],\n",
    "                        df['structure'],df['db_windows'],\n",
    "                        df['db_all_windows'],\n",
    "                        df['embedding_vector_all_windows'],\n",
    "                        df['embedding_vector_windows']))\n",
    "\n",
    "random.shuffle(results_list)\n",
    "\n",
    "# Generate unique pairwise combinations\n",
    "combinations_list = list(combinations(results_list, 2))\n",
    "\n",
    "pair_cols = ['pair_1', 'pair_2']\n",
    "\n",
    "# Create a DataFrame\n",
    "results_df = pd.DataFrame(combinations_list, columns=pair_cols)\n",
    "\n",
    "# # # Split the tuples into separate columns\n",
    "results_df[['group_1',\n",
    "            'rna_class_1',\n",
    "            'rna_name_1',\n",
    "            'sequence_1',\n",
    "            'structure_1',\n",
    "            'db_windows_1',\n",
    "            'db_all_windows_1',\n",
    "            'embedding_vector_all_windows_1',\n",
    "            'embedding_vector_windows_1']] = pd.DataFrame(results_df['pair_1'].tolist(), index=results_df.index)\n",
    "\n",
    "results_df[['group_2',\n",
    "            'rna_class_2',\n",
    "            'rna_name_2',\n",
    "            'sequence_2',\n",
    "            'structure_2',\n",
    "            'db_windows_2',            \n",
    "            'db_all_windows_2',\n",
    "            'embedding_vector_all_windows_2',            \n",
    "            'embedding_vector_windows_2']] = pd.DataFrame(results_df['pair_2'].tolist(), index=results_df.index)\n",
    "\n",
    "# # Drop the unnecessary columns\n",
    "results_df = results_df.drop(columns=pair_cols)"
   ]
  },
  {
   "cell_type": "markdown",
   "id": "65c5e130",
   "metadata": {
    "papermill": {
     "duration": 1.783732,
     "end_time": "2024-01-23T11:21:01.401645",
     "exception": false,
     "start_time": "2024-01-23T11:20:59.617913",
     "status": "completed"
    },
    "tags": []
   },
   "source": [
    "## Tag structure pairs\n"
   ]
  },
  {
   "cell_type": "code",
   "execution_count": 24,
   "id": "0f8526d4",
   "metadata": {
    "execution": {
     "iopub.execute_input": "2024-01-23T11:21:05.026409Z",
     "iopub.status.busy": "2024-01-23T11:21:05.026018Z",
     "iopub.status.idle": "2024-01-23T11:21:16.414271Z",
     "shell.execute_reply": "2024-01-23T11:21:16.413144Z"
    },
    "papermill": {
     "duration": 13.128185,
     "end_time": "2024-01-23T11:21:16.416748",
     "exception": false,
     "start_time": "2024-01-23T11:21:03.288563",
     "status": "completed"
    },
    "tags": []
   },
   "outputs": [],
   "source": [
    "# Creating pair types columns\n",
    "results_df['pair_type'] = results_df.apply(lambda row: create_pairs_categories1(row, 'RNP'), axis=1)\n",
    "results_df['pair_type2'] = results_df.apply(lambda row: create_pairs_categories2(row, 'RNP'), axis=1)\n",
    "results_df['pair_class'] = results_df.apply(lambda row: create_pairs_categories3(row, 'RNP'), axis=1)\n",
    "results_df['pair_class2'] = results_df.apply(lambda row: create_pairs_categories4(row, 'RNP'), axis=1)\n",
    "results_df['binary_pair_type'] = results_df.apply(lambda row: create_pairs_binary(row, 'RNP'), axis=1)"
   ]
  },
  {
   "cell_type": "code",
   "execution_count": 25,
   "id": "7a560c71",
   "metadata": {
    "execution": {
     "iopub.execute_input": "2024-01-23T11:21:20.070164Z",
     "iopub.status.busy": "2024-01-23T11:21:20.069759Z",
     "iopub.status.idle": "2024-01-23T11:21:20.190525Z",
     "shell.execute_reply": "2024-01-23T11:21:20.189302Z"
    },
    "papermill": {
     "duration": 1.950903,
     "end_time": "2024-01-23T11:21:20.193097",
     "exception": false,
     "start_time": "2024-01-23T11:21:18.242194",
     "status": "completed"
    },
    "tags": []
   },
   "outputs": [],
   "source": [
    "results_sample = results_df.sample(frac=1)"
   ]
  },
  {
   "cell_type": "code",
   "execution_count": 26,
   "id": "4c96531e",
   "metadata": {
    "execution": {
     "iopub.execute_input": "2024-01-23T11:21:23.832617Z",
     "iopub.status.busy": "2024-01-23T11:21:23.832238Z",
     "iopub.status.idle": "2024-01-23T11:36:14.955221Z",
     "shell.execute_reply": "2024-01-23T11:36:14.953217Z"
    },
    "papermill": {
     "duration": 892.929891,
     "end_time": "2024-01-23T11:36:14.957116",
     "exception": false,
     "start_time": "2024-01-23T11:21:22.027225",
     "status": "completed"
    },
    "tags": []
   },
   "outputs": [
    {
     "name": "stderr",
     "output_type": "stream",
     "text": [
      "Calculating Square Distances: 100%|██████████| 127765/127765 [02:47<00:00, 762.44it/s]\n",
      "Calculating Square Distances for ALL windows: 100%|██████████| 127765/127765 [12:03<00:00, 176.59it/s]\n"
     ]
    }
   ],
   "source": [
    "tqdm.pandas(desc=\"Calculating Square Distances\")\n",
    "results_sample['windows_square_distances'] = results_sample.progress_apply((lambda x:\n",
    "                                                                   windows_square_dist(x['embedding_vector_windows_1'], x['embedding_vector_windows_2'])),\n",
    "                                                                  axis=1)\n",
    "\n",
    "tqdm.pandas(desc=\"Calculating Square Distances for ALL windows\")\n",
    "results_sample['windows_square_distances_all'] = results_sample.progress_apply((lambda x:\n",
    "                                                                   windows_square_dist(x['embedding_vector_all_windows_1'], x['embedding_vector_all_windows_2'])),\n",
    "                                                                  axis=1)"
   ]
  },
  {
   "cell_type": "code",
   "execution_count": 27,
   "id": "9017dbec",
   "metadata": {
    "execution": {
     "iopub.execute_input": "2024-01-23T11:36:19.981381Z",
     "iopub.status.busy": "2024-01-23T11:36:19.980423Z",
     "iopub.status.idle": "2024-01-23T11:36:19.988820Z",
     "shell.execute_reply": "2024-01-23T11:36:19.988117Z"
    },
    "papermill": {
     "duration": 2.577024,
     "end_time": "2024-01-23T11:36:19.990772",
     "exception": false,
     "start_time": "2024-01-23T11:36:17.413748",
     "status": "completed"
    },
    "tags": []
   },
   "outputs": [],
   "source": [
    "def scoring_function1(windows_square_distances, fraction=.4):\n",
    "\n",
    "  combinations = len(windows_square_distances)\n",
    "  amount = int(math.ceil(combinations*fraction))\n",
    "  top_matches = sorted(windows_square_distances, reverse=False)[:amount]\n",
    "  average = np.mean(top_matches)\n",
    "\n",
    "  return average\n",
    "\n",
    "def scoring_function2(windows_square_distances):\n",
    "\n",
    "  min_distances = []\n",
    "\n",
    "  for windows_distances_list in windows_square_distances:\n",
    "\n",
    "    window_min_dis = min(windows_distances_list)\n",
    "    min_distances.append(window_min_dis)\n",
    "\n",
    "  average = np.mean(min_distances)\n",
    "\n",
    "  return average\n",
    "\n",
    "\n",
    "def scoring_function3(windows_square_distances):\n",
    "  return np.mean(windows_square_distances)\n",
    "\n",
    "\n",
    "def scoring_function4(windows_square_distances, amount = 5):\n",
    "    \n",
    "    smallest_distances = [min(distances) for distances in windows_square_distances]\n",
    "\n",
    "    average = np.mean(smallest_distances)\n",
    "    \n",
    "    return average"
   ]
  },
  {
   "cell_type": "code",
   "execution_count": 28,
   "id": "663c53fd",
   "metadata": {
    "execution": {
     "iopub.execute_input": "2024-01-23T11:36:25.023495Z",
     "iopub.status.busy": "2024-01-23T11:36:25.023092Z",
     "iopub.status.idle": "2024-01-23T11:36:34.340848Z",
     "shell.execute_reply": "2024-01-23T11:36:34.339835Z"
    },
    "papermill": {
     "duration": 11.943186,
     "end_time": "2024-01-23T11:36:34.342907",
     "exception": false,
     "start_time": "2024-01-23T11:36:22.399721",
     "status": "completed"
    },
    "tags": []
   },
   "outputs": [
    {
     "name": "stderr",
     "output_type": "stream",
     "text": [
      "Calculating Distance Score: 100%|██████████| 127765/127765 [00:04<00:00, 27958.87it/s]\n",
      "Calculating Distance Score ALL: 100%|██████████| 127765/127765 [00:04<00:00, 27000.58it/s]\n"
     ]
    }
   ],
   "source": [
    "tqdm.pandas(desc=\"Calculating Distance Score\")\n",
    "results_sample['distance_score'] = results_sample.progress_apply((lambda x:\n",
    "                                                                   scoring_function3(x['windows_square_distances'])),\n",
    "                                                                  axis=1)\n",
    "\n",
    "tqdm.pandas(desc=\"Calculating Distance Score ALL\")\n",
    "results_sample['distance_score_all'] = results_sample.progress_apply((lambda x:\n",
    "                                                                   scoring_function3(x['windows_square_distances_all'])),\n",
    "                                                                  axis=1)\n"
   ]
  },
  {
   "cell_type": "code",
   "execution_count": 29,
   "id": "85af2062",
   "metadata": {
    "execution": {
     "iopub.execute_input": "2024-01-23T11:36:39.356587Z",
     "iopub.status.busy": "2024-01-23T11:36:39.355604Z",
     "iopub.status.idle": "2024-01-23T11:36:39.694330Z",
     "shell.execute_reply": "2024-01-23T11:36:39.693153Z"
    },
    "papermill": {
     "duration": 2.920901,
     "end_time": "2024-01-23T11:36:39.697476",
     "exception": false,
     "start_time": "2024-01-23T11:36:36.776575",
     "status": "completed"
    },
    "tags": []
   },
   "outputs": [],
   "source": [
    "#@title Download results_df as a pickle object\n",
    "\n",
    "# Get the current time (madrid)\n",
    "now = datetime.now(pytz.timezone('Europe/Madrid')).strftime('%H%M-%y%m%d')\n",
    "\n",
    "file_name = 'results_RNP_'+now+'.pkl'\n",
    "\n",
    "results_df.to_pickle(file_name)"
   ]
  },
  {
   "cell_type": "code",
   "execution_count": 30,
   "id": "02b0220e",
   "metadata": {
    "execution": {
     "iopub.execute_input": "2024-01-23T11:36:44.764841Z",
     "iopub.status.busy": "2024-01-23T11:36:44.764435Z",
     "iopub.status.idle": "2024-01-23T11:36:44.784431Z",
     "shell.execute_reply": "2024-01-23T11:36:44.783601Z"
    },
    "papermill": {
     "duration": 2.482496,
     "end_time": "2024-01-23T11:36:44.786380",
     "exception": false,
     "start_time": "2024-01-23T11:36:42.303884",
     "status": "completed"
    },
    "tags": []
   },
   "outputs": [],
   "source": [
    "def windower_optimizer(thetha1, thetha2):\n",
    "    \n",
    "#     print('thetha1=', thetha1)\n",
    "#     print('thetha2=', thetha2)\n",
    "    tqdm.pandas(desc='Dividing structures in windows')\n",
    "    df['db_windows'] = df.apply(lambda x: get_ss_windows(x['structures_wo_pk'],\n",
    "                                                                  max_size= max_windows_size,\n",
    "                                                                  mode='best'),\n",
    "                                          axis=1)\n",
    "    max_difference_init = 21\n",
    "    max_difference_limit = 211\n",
    "    min_distance_init = 149\n",
    "    min_distance_limit = 17\n",
    "\n",
    "    tqdm.pandas(desc='Dividing structures in slided windows')\n",
    "    df['db_sliding_windows'] = df.apply(lambda x: get_ss_windows( x['structures_wo_pk'],\n",
    "                                                                          max_size=max_windows_size, \n",
    "                                                                          mode='shifted',\n",
    "                                                                          thetha1=thetha1, thetha2=thetha2,\n",
    "                                                                          min_distance_init=min_distance_init, \n",
    "                                                                          min_distance_limit=min_distance_limit,\n",
    "                                                                          min_distance_step=3,\n",
    "                                                                          max_difference_init=max_difference_init,\n",
    "                                                                          max_difference_limit=max_difference_limit,\n",
    "                                                                          max_difference_step=3), \n",
    "                                                 axis=1)\n",
    "\n",
    "    tqdm.pandas(desc='Joining standard with slided windows')\n",
    "    df['db_all_windows'] = df.apply(lambda x: x['db_windows']+x['db_sliding_windows'], \n",
    "                                                 axis=1)\n",
    "    \n",
    "    \n",
    "    \n",
    "    ######\n",
    "    \n",
    "    \n",
    "    tqdm.pandas(desc='Converting ALL windows to contact matrices')\n",
    "    df['matrices_all_windows'] = df.apply(lambda x: parse_windows(x['db_all_windows'],\n",
    "                                                                  dot_bracket_to_matrix_2),\n",
    "                                          axis=1)\n",
    "\n",
    "    tqdm.pandas(desc='Padding ALL contact matrices')\n",
    "    df['paded_matrices_all_windows'] = df.apply(lambda x: parse_matrices(x['matrices_all_windows'],\n",
    "                                                                  pad_matrix),\n",
    "                                          axis=1)\n",
    "    \n",
    "    ######\n",
    "    \n",
    "    df['embedding_vector_all_windows'] = None\n",
    "\n",
    "#     with tqdm(total=df.shape[0], desc=\"Creating embedding vectors for ALL windows\") as pbar:\n",
    "    for index, row in df.iterrows():\n",
    "        structure_embedding_vectors = []\n",
    "        for structure in row['paded_matrices_all_windows']:\n",
    "            structure_exp = tf.expand_dims(structure, axis=0)\n",
    "            structure_emb = embedding(structure_exp)\n",
    "\n",
    "            structure_embedding_vectors.append(structure_emb)\n",
    "\n",
    "        df.at[index, 'embedding_vector_all_windows'] = structure_embedding_vectors\n",
    "#             pbar.update(1)\n",
    "            \n",
    "            \n",
    "    \n",
    "    ######\n",
    "    \n",
    "    results_list = list(zip(df['RNA_type'], df['rna_class'],\n",
    "                        df['rna_name'], df['sequence'],\n",
    "                        df['structure'],df['db_windows'],\n",
    "                        df['db_all_windows'],\n",
    "                        df['embedding_vector_all_windows'],\n",
    "                        df['embedding_vector_windows']))\n",
    "\n",
    "    random.shuffle(results_list)\n",
    "\n",
    "    # Generate unique pairwise combinations\n",
    "    combinations_list = list(combinations(results_list, 2))\n",
    "\n",
    "    pair_cols = ['pair_1', 'pair_2']\n",
    "\n",
    "    # Create a DataFrame\n",
    "    results_df = pd.DataFrame(combinations_list, columns=pair_cols)\n",
    "\n",
    "    # # # Split the tuples into separate columns\n",
    "    results_df[['group_1',\n",
    "                'rna_class_1',\n",
    "                'rna_name_1',\n",
    "                'sequence_1',\n",
    "                'structure_1',\n",
    "                'db_windows_1',\n",
    "                'db_all_windows_1',\n",
    "                'embedding_vector_all_windows_1',\n",
    "                'embedding_vector_windows_1']] = pd.DataFrame(results_df['pair_1'].tolist(), index=results_df.index)\n",
    "\n",
    "    results_df[['group_2',\n",
    "                'rna_class_2',\n",
    "                'rna_name_2',\n",
    "                'sequence_2',\n",
    "                'structure_2',\n",
    "                'db_windows_2',            \n",
    "                'db_all_windows_2',\n",
    "                'embedding_vector_all_windows_2',            \n",
    "                'embedding_vector_windows_2']] = pd.DataFrame(results_df['pair_2'].tolist(), index=results_df.index)\n",
    "    \n",
    "\n",
    "    # # Drop the unnecessary columns\n",
    "    results_df = results_df.drop(columns=pair_cols)\n",
    "    \n",
    "    \n",
    "    ######\n",
    "    \n",
    "    results_sample = results_df.sample(frac=.06, random_state=42)\n",
    "    \n",
    "    tqdm.pandas(desc=\"Calculating Square Distances for ALL windows\")\n",
    "    results_sample['windows_square_distances_all'] = results_sample.apply((lambda x:\n",
    "                                                                   windows_square_dist(x['embedding_vector_all_windows_1'], x['embedding_vector_all_windows_2'])),\n",
    "                                                                  axis=1)\n",
    "    \n",
    "    \n",
    "    ######\n",
    "    \n",
    "    tqdm.pandas(desc=\"Calculating Distance Score ALL\")\n",
    "    results_sample['distance_score_all'] = results_sample.apply((lambda x:\n",
    "                                                                       scoring_function3(x['windows_square_distances_all'])),\n",
    "                                                                      axis=1)\n",
    "    \n",
    "    results_sample['binary_pair_type'] = results_sample.apply(lambda row: create_pairs_binary(row, 'RNP'), axis=1)\n",
    "\n",
    "    \n",
    "    ##### model evaluationz\n",
    "    score = 1/results_sample['distance_score_all']\n",
    "    fpr, tpr, thresholds = roc_curve(results_sample['binary_pair_type'], score)\n",
    "    roc_auc = auc(fpr, tpr)\n",
    "\n",
    "#     print('AUC =', str(round(roc_auc, 3)), '\\n')\n",
    "    \n",
    "    return roc_auc"
   ]
  },
  {
   "cell_type": "code",
   "execution_count": 31,
   "id": "acf3799e",
   "metadata": {
    "execution": {
     "iopub.execute_input": "2024-01-23T11:36:49.907839Z",
     "iopub.status.busy": "2024-01-23T11:36:49.907421Z",
     "iopub.status.idle": "2024-01-23T11:36:49.912318Z",
     "shell.execute_reply": "2024-01-23T11:36:49.911343Z"
    },
    "papermill": {
     "duration": 2.592462,
     "end_time": "2024-01-23T11:36:49.914188",
     "exception": false,
     "start_time": "2024-01-23T11:36:47.321726",
     "status": "completed"
    },
    "tags": []
   },
   "outputs": [],
   "source": [
    "# !pip install bayesian-optimization\n",
    "\n",
    "# from bayes_opt import BayesianOptimization\n",
    "\n",
    "# # Define the parameter bounds\n",
    "# pbounds = {'thetha1': (1, 30), 'thetha2': (1, 30)}\n",
    "\n",
    "# # Create the BayesianOptimization object\n",
    "# optimizer = BayesianOptimization(\n",
    "#     f=windower_optimizer,\n",
    "#     pbounds=pbounds,\n",
    "#     verbose=2,  # Adjust verbosity as needed\n",
    "#     random_state=42  # Set a random seed for reproducibility\n",
    "# )\n",
    "\n",
    "# # Perform optimization\n",
    "# optimizer.maximize(init_points=15, n_iter=100)\n",
    "\n",
    "# # Print the best result\n",
    "# print(\"Best Parameters:\", optimizer.max['params'])\n",
    "# print(\"Best Result:\", optimizer.max['target']) "
   ]
  },
  {
   "cell_type": "code",
   "execution_count": 32,
   "id": "3dcb6c5e",
   "metadata": {
    "execution": {
     "iopub.execute_input": "2024-01-23T11:36:54.910904Z",
     "iopub.status.busy": "2024-01-23T11:36:54.910515Z",
     "iopub.status.idle": "2024-01-23T11:36:54.915371Z",
     "shell.execute_reply": "2024-01-23T11:36:54.914448Z"
    },
    "papermill": {
     "duration": 2.458706,
     "end_time": "2024-01-23T11:36:54.917557",
     "exception": false,
     "start_time": "2024-01-23T11:36:52.458851",
     "status": "completed"
    },
    "tags": []
   },
   "outputs": [],
   "source": [
    "# before optimization\n",
    "# min_distance_init 80 \n",
    "# min_distance_limit 20 \n",
    "# max_difference_init 10 \n",
    "# max_difference_limit 180\n",
    "\n",
    "# after optimization\n",
    "# max_difference_init = 21\n",
    "# max_difference_limit = 211\n",
    "# min_distance_init = 149\n",
    "# min_distance_limit = 17"
   ]
  },
  {
   "cell_type": "markdown",
   "id": "72b1817b",
   "metadata": {
    "papermill": {
     "duration": 2.59011,
     "end_time": "2024-01-23T11:37:00.074753",
     "exception": false,
     "start_time": "2024-01-23T11:36:57.484643",
     "status": "completed"
    },
    "tags": []
   },
   "source": [
    "## Model evalution"
   ]
  },
  {
   "cell_type": "code",
   "execution_count": 33,
   "id": "d6e1dbf9",
   "metadata": {
    "execution": {
     "iopub.execute_input": "2024-01-23T11:37:05.050759Z",
     "iopub.status.busy": "2024-01-23T11:37:05.050079Z",
     "iopub.status.idle": "2024-01-23T11:37:05.222914Z",
     "shell.execute_reply": "2024-01-23T11:37:05.222064Z"
    },
    "papermill": {
     "duration": 2.597916,
     "end_time": "2024-01-23T11:37:05.225364",
     "exception": false,
     "start_time": "2024-01-23T11:37:02.627448",
     "status": "completed"
    },
    "tags": []
   },
   "outputs": [],
   "source": [
    "df_without_unknowns = results_sample[results_sample['pair_class2'] != 'Unknown class RNAse P pair'].copy()"
   ]
  },
  {
   "cell_type": "code",
   "execution_count": 34,
   "id": "4b7b6a7e",
   "metadata": {
    "execution": {
     "iopub.execute_input": "2024-01-23T11:37:10.314375Z",
     "iopub.status.busy": "2024-01-23T11:37:10.313970Z",
     "iopub.status.idle": "2024-01-23T11:37:11.498590Z",
     "shell.execute_reply": "2024-01-23T11:37:11.497686Z"
    },
    "papermill": {
     "duration": 3.775202,
     "end_time": "2024-01-23T11:37:11.500915",
     "exception": false,
     "start_time": "2024-01-23T11:37:07.725713",
     "status": "completed"
    },
    "tags": []
   },
   "outputs": [
    {
     "name": "stdout",
     "output_type": "stream",
     "text": [
      "RNP-RNP pairs mean distance_score_all = 48.173\n",
      "Random pairs meandistance_score_all = 67.759\n",
      "P-value < 1e-324\n",
      "F1 Score = 0.0001 (threshold = 2.7)\n",
      "AUC = 0.87 \n",
      "\n"
     ]
    },
    {
     "data": {
      "image/png": "[encoded data removed]",
      "text/plain": [
       "<Figure size 800x800 with 1 Axes>"
      ]
     },
     "metadata": {},
     "output_type": "display_data"
    },
    {
     "name": "stdout",
     "output_type": "stream",
     "text": [
      "\n",
      "\n"
     ]
    },
    {
     "name": "stderr",
     "output_type": "stream",
     "text": [
      "/opt/conda/lib/python3.10/site-packages/seaborn/_oldcore.py:1119: FutureWarning: use_inf_as_na option is deprecated and will be removed in a future version. Convert inf values to NaN before operating instead.\n",
      "  with pd.option_context('mode.use_inf_as_na', True):\n"
     ]
    },
    {
     "data": {
      "image/png": "[encoded data removed]",
      "text/plain": [
       "<Figure size 1200x600 with 1 Axes>"
      ]
     },
     "metadata": {},
     "output_type": "display_data"
    }
   ],
   "source": [
    "# Model evaluation for Square Distance\n",
    "\n",
    "model_stadistics(metric='distance_score_all',\n",
    "                 metric_type = 'distance',\n",
    "                 RNA_type = 'RNP',\n",
    "                 pairing_type = 'pair_class2',\n",
    "                 f1_threshold=2.7,\n",
    "                 df=results_sample)"
   ]
  },
  {
   "cell_type": "code",
   "execution_count": 35,
   "id": "a85f770f",
   "metadata": {
    "execution": {
     "iopub.execute_input": "2024-01-23T11:37:16.583295Z",
     "iopub.status.busy": "2024-01-23T11:37:16.582393Z",
     "iopub.status.idle": "2024-01-23T11:37:17.515939Z",
     "shell.execute_reply": "2024-01-23T11:37:17.514969Z"
    },
    "papermill": {
     "duration": 3.385566,
     "end_time": "2024-01-23T11:37:17.518078",
     "exception": false,
     "start_time": "2024-01-23T11:37:14.132512",
     "status": "completed"
    },
    "tags": []
   },
   "outputs": [
    {
     "data": {
      "image/png": "[encoded data removed]",
      "text/plain": [
       "<Figure size 1200x240 with 1 Axes>"
      ]
     },
     "metadata": {},
     "output_type": "display_data"
    }
   ],
   "source": [
    "figsize = (12, 1.2 * len(results_sample['pair_type'].unique()))\n",
    "plt.figure(figsize=figsize)\n",
    "pair_order = ['Random pair', 'Different class RNAse P pair', 'Same class RNAse P pair', 'Unknown class RNAse P pair']\n",
    "xlim = results_sample['distance_score_all'].max()\n",
    "plt.xlim(0, xlim)\n",
    "sns.violinplot(results_sample, x='distance_score_all', y='pair_type', inner='box', palette='Dark2')\n",
    "sns.despine(top=True, right=True, bottom=True, left=True)"
   ]
  },
  {
   "cell_type": "code",
   "execution_count": 36,
   "id": "eaddc580",
   "metadata": {
    "execution": {
     "iopub.execute_input": "2024-01-23T11:37:22.508607Z",
     "iopub.status.busy": "2024-01-23T11:37:22.508193Z",
     "iopub.status.idle": "2024-01-23T11:37:23.411916Z",
     "shell.execute_reply": "2024-01-23T11:37:23.410976Z"
    },
    "papermill": {
     "duration": 3.336955,
     "end_time": "2024-01-23T11:37:23.414369",
     "exception": false,
     "start_time": "2024-01-23T11:37:20.077414",
     "status": "completed"
    },
    "tags": []
   },
   "outputs": [
    {
     "data": {
      "image/png": "[encoded data removed]",
      "text/plain": [
       "<Figure size 1200x480 with 1 Axes>"
      ]
     },
     "metadata": {},
     "output_type": "display_data"
    }
   ],
   "source": [
    "figsize = (12, 1.2 * len(results_sample['pair_class2'].unique()))\n",
    "xlim = results_sample['distance_score_all'].max()\n",
    "plt.figure(figsize=figsize)\n",
    "pair_order = ['Random pair', 'Different class RNAse P pair', 'Same class RNAse P pair', 'Unknown class RNAse P pair']\n",
    "plt.xlim(0, xlim)\n",
    "sns.violinplot(results_sample, x='distance_score_all', y='pair_class2', inner='box', palette='Dark2', order = pair_order)\n",
    "plt.ylabel(\"Type of pair\")\n",
    "sns.despine(top=True, right=True, bottom=True, left=True)"
   ]
  },
  {
   "cell_type": "code",
   "execution_count": 37,
   "id": "781f1748",
   "metadata": {
    "execution": {
     "iopub.execute_input": "2024-01-23T11:37:28.498571Z",
     "iopub.status.busy": "2024-01-23T11:37:28.498159Z",
     "iopub.status.idle": "2024-01-23T11:37:29.569188Z",
     "shell.execute_reply": "2024-01-23T11:37:29.568009Z"
    },
    "papermill": {
     "duration": 3.536079,
     "end_time": "2024-01-23T11:37:29.571728",
     "exception": false,
     "start_time": "2024-01-23T11:37:26.035649",
     "status": "completed"
    },
    "tags": []
   },
   "outputs": [
    {
     "data": {
      "image/png": "[encoded data removed]",
      "text/plain": [
       "<Figure size 1200x840 with 1 Axes>"
      ]
     },
     "metadata": {},
     "output_type": "display_data"
    }
   ],
   "source": [
    "figsize = (12, 1.2 * len(results_sample['pair_class'].unique()))\n",
    "plt.figure(figsize=figsize)\n",
    "xlim = results_sample['distance_score_all'].max()\n",
    "\n",
    "plt.xlim(0, xlim)\n",
    "plt.ylabel(\"Type of pair\")\n",
    "pair_class_order = ['random', 'Different class RNAse P pair', 'Bacterial RNase P class A',\n",
    "                    'Bacterial RNase P class B','Nuclear RNase P', 'Archaeal RNase P', 'Unknown RNAse P class']  \n",
    "sns.violinplot(results_sample, x='distance_score_all', y='pair_class', inner='box', palette='Dark2', order=pair_class_order)\n",
    "\n",
    "sns.despine(top=True, right=True, bottom=True, left=True)"
   ]
  },
  {
   "cell_type": "code",
   "execution_count": 38,
   "id": "f02c6b2d",
   "metadata": {
    "execution": {
     "iopub.execute_input": "2024-01-23T11:37:34.627490Z",
     "iopub.status.busy": "2024-01-23T11:37:34.627073Z",
     "iopub.status.idle": "2024-01-23T11:37:35.810414Z",
     "shell.execute_reply": "2024-01-23T11:37:35.809385Z"
    },
    "papermill": {
     "duration": 3.655396,
     "end_time": "2024-01-23T11:37:35.812482",
     "exception": false,
     "start_time": "2024-01-23T11:37:32.157086",
     "status": "completed"
    },
    "tags": []
   },
   "outputs": [
    {
     "data": {
      "image/png": "[encoded data removed]",
      "text/plain": [
       "<Figure size 1200x840 with 1 Axes>"
      ]
     },
     "metadata": {},
     "output_type": "display_data"
    }
   ],
   "source": [
    "df_filtered = results_sample[(results_sample['rna_name_1'] != 'bpRNA_RNP_14') &\n",
    "                             (results_sample['rna_name_2'] != 'bpRNA_RNP_14') &\n",
    "                             (results_sample['rna_name_2'] != 'bpRNA_RNP_32') &\n",
    "                             (results_sample['rna_name_2'] != 'bpRNA_RNP_32')]\n",
    "\n",
    "figsize = (12, 1.2 * len(df_filtered['pair_class'].unique()))\n",
    "plt.figure(figsize=figsize)\n",
    "xlim = df_filtered['distance_score_all'].max()\n",
    "plt.ylabel(\"Type of pair\")\n",
    "\n",
    "plt.xlim(0, xlim)\n",
    "pair_class_order = ['random', 'Different class RNAse P pair', 'Bacterial RNase P class A',\n",
    "                    'Bacterial RNase P class B','Nuclear RNase P', 'Archaeal RNase P', 'Unknown RNAse P class']  \n",
    "sns.violinplot(df_filtered, x='distance_score_all', y='pair_class', inner='box', palette='Dark2', order=pair_class_order)\n",
    "sns.despine(top=True, right=True, bottom=True, left=True)"
   ]
  },
  {
   "cell_type": "code",
   "execution_count": 39,
   "id": "76b4a365",
   "metadata": {
    "execution": {
     "iopub.execute_input": "2024-01-23T11:37:41.025621Z",
     "iopub.status.busy": "2024-01-23T11:37:41.024947Z",
     "iopub.status.idle": "2024-01-23T11:37:41.034058Z",
     "shell.execute_reply": "2024-01-23T11:37:41.033084Z"
    },
    "papermill": {
     "duration": 2.580376,
     "end_time": "2024-01-23T11:37:41.036247",
     "exception": false,
     "start_time": "2024-01-23T11:37:38.455871",
     "status": "completed"
    },
    "tags": []
   },
   "outputs": [],
   "source": [
    "# import numpy as np\n",
    "# from scipy.cluster.hierarchy import linkage, dendrogram\n",
    "# import matplotlib.pyplot as plt\n",
    "\n",
    "# # Mapping dictionary\n",
    "# class_mapping = {\n",
    "#     'Bacterial RNase P class A': 'bacA',\n",
    "#     'Bacterial RNase P class B': 'bacB',\n",
    "#     'Nuclear RNase P': 'nucl',\n",
    "#     'Archaeal RNase P': 'arch',\n",
    "#     'Unknown RNAse P class' : 'unk',\n",
    "#     'random' : 'rand'\n",
    "# }\n",
    "\n",
    "# # Create a new column based on the mapping\n",
    "# results_sample['rna_class_1_short'] = results_sample['rna_class_1'].map(class_mapping)\n",
    "# results_sample['rna_class_2_short'] = results_sample['rna_class_2'].map(class_mapping)\n",
    "\n",
    "# # Extracting the desired part of the string\n",
    "# results_sample['rna_name_1_short'] = results_sample['rna_name_1'].str.extract(r'(RNP_\\d+|rna_\\d+)')\n",
    "# results_sample['rna_name_2_short'] = results_sample['rna_name_2'].str.extract(r'(RNP_\\d+|rna_\\d+)')\n",
    "# results_sample['rna_name_class_1'] = results_sample['rna_class_1_short'] + '-' + results_sample['rna_name_1_short']\n",
    "# results_sample['rna_name_class_2'] = results_sample['rna_class_2_short'] + '-' + results_sample['rna_name_2_short']\n",
    "\n",
    "# # Get unique elements\n",
    "# unique_elements = sorted(pd.concat([results_sample['rna_name_class_1'], results_sample['rna_name_class_2']]).unique())\n",
    "\n",
    "# # Create an empty n x n matrix filled with NaN\n",
    "# n = len(unique_elements)\n",
    "# distance_matrix = np.full((n, n), np.nan)\n",
    "\n",
    "# # Fill in the distance matrix with the distance scores\n",
    "# for _, row in results_sample.iterrows():\n",
    "#     i = unique_elements.index(row['rna_name_class_1'])\n",
    "#     j = unique_elements.index(row['rna_name_class_2'])\n",
    "#     distance_matrix[i, i] = 0\n",
    "#     distance_matrix[i, j] = row['distance_score_all']\n",
    "#     distance_matrix[j, i] = row['distance_score_all']  # Since it's a pairwise matrix, it's symmetric\n",
    "\n",
    "# # Display the distance matrix\n",
    "# distance_matrix_df = pd.DataFrame(distance_matrix, index=unique_elements, columns=unique_elements)\n",
    "\n",
    "# distance_matrix_no_zeros = distance_matrix_df.replace(0, np.nan)\n",
    "# min_row, min_col = distance_matrix_no_zeros.stack().idxmin()\n",
    "\n",
    "# # Replace NaN values with the average of the entire DataFrame\n",
    "# distance_matrix_df = distance_matrix_df.fillna(distance_matrix_df.stack().mean())\n",
    "\n",
    "# # Mapping dictionary\n",
    "# color_mapping = {\n",
    "#     'Bacterial RNase P class A': 'pink',\n",
    "#     'Bacterial RNase P class B': 'red',\n",
    "#     'Nuclear RNase P': 'purple',\n",
    "#     'Archaeal RNase P': 'orange',\n",
    "#     'Unknown RNAse P class' : 'yellow',\n",
    "#     'random' : 'green'\n",
    "# }\n",
    "\n",
    "# class_mapping = {\n",
    "#     'Bacterial RNase P class A': 'bacA',\n",
    "#     'Bacterial RNase P class B': 'bacB',\n",
    "#     'Nuclear RNase P': 'nucl',\n",
    "#     'Archaeal RNase P': 'arch',\n",
    "#     'Unknown RNAse P class' : 'unk',\n",
    "#     'random' : 'rand'\n",
    "# }\n",
    "\n",
    "# # Create a new column based on the mapping\n",
    "# df['rna_color'] = df['rna_class'].map(color_mapping)\n",
    "# df['rna_class_short'] = df['rna_class'].map(class_mapping)\n",
    "\n",
    "# # Extracting the desired part of the string\n",
    "# df['rna_name_short'] = df['rna_name'].str.extract(r'(RNP_\\d+|rna_\\d+)')\n",
    "# df['rna_name_class'] = df['rna_class_short'] + '-' + df['rna_name_short']\n",
    "# mapping_df = df[['rna_name_class','rna_color']].copy()\n",
    "\n",
    "# rna_mapping_dict = dict(zip(mapping_df['rna_name_class'], mapping_df['rna_color']))\n",
    "\n",
    "# # Generate hierarchical clustering SINGLE\n",
    "# linkage_matrix = linkage(distance_matrix_df, method='single')\n",
    "\n",
    "# plt.figure(figsize=(150, 150))\n",
    "# plt.clf()\n",
    "\n",
    "# ddata = dendrogram(linkage_matrix,\n",
    "#                    color_threshold=1,\n",
    "#                    labels=distance_matrix_df.index)\n",
    "\n",
    "# # Assignment of colors to labels: 'a' is red, 'b' is green, etc.\n",
    "# label_colors = rna_mapping_dict\n",
    "\n",
    "# ax = plt.gca()\n",
    "# xlbls = ax.get_xmajorticklabels()\n",
    "# for lbl in xlbls:\n",
    "#     lbl.set_color(label_colors[lbl.get_text()])\n",
    "\n",
    "# plt.show()\n",
    "\n",
    "\n",
    "# # Generate hierarchical clustering COMPLETE\n",
    "# linkage_matrix = linkage(distance_matrix_df, method='complete')\n",
    "\n",
    "# plt.figure(figsize=(150, 150))\n",
    "# plt.clf()\n",
    "\n",
    "# ddata = dendrogram(linkage_matrix,\n",
    "#                    color_threshold=1,\n",
    "#                    labels=distance_matrix_df.index)\n",
    "\n",
    "# # Assignment of colors to labels: 'a' is red, 'b' is green, etc.\n",
    "# label_colors = rna_mapping_dict\n",
    "\n",
    "# ax = plt.gca()\n",
    "# xlbls = ax.get_xmajorticklabels()\n",
    "# for lbl in xlbls:\n",
    "#     lbl.set_color(label_colors[lbl.get_text()])\n",
    "\n",
    "# plt.show()"
   ]
  }
 ],
 "metadata": {
  "kaggle": {
   "accelerator": "gpu",
   "dataSources": [],
   "dockerImageVersionId": 30627,
   "isGpuEnabled": true,
   "isInternetEnabled": true,
   "language": "python",
   "sourceType": "notebook"
  },
  "kernelspec": {
   "display_name": "Python 3",
   "language": "python",
   "name": "python3"
  },
  "language_info": {
   "codemirror_mode": {
    "name": "ipython",
    "version": 3
   },
   "file_extension": ".py",
   "mimetype": "text/x-python",
   "name": "python",
   "nbconvert_exporter": "python",
   "pygments_lexer": "ipython3",
   "version": "3.10.12"
  },
  "papermill": {
   "default_parameters": {},
   "duration": 2626.378186,
   "end_time": "2024-01-23T11:37:46.679817",
   "environment_variables": {},
   "exception": null,
   "input_path": "__notebook__.ipynb",
   "output_path": "__notebook__.ipynb",
   "parameters": {},
   "start_time": "2024-01-23T10:54:00.301631",
   "version": "2.4.0"
  }
 },
 "nbformat": 4,
 "nbformat_minor": 5
}
